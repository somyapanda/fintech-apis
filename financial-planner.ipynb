{
 "cells": [
  {
   "cell_type": "markdown",
   "metadata": {},
   "source": [
    "# Unit 5 - Financial Planning\n"
   ]
  },
  {
   "cell_type": "markdown",
   "metadata": {},
   "source": [
    "**Initial imports**\n",
    "\n",
    "Let's import the following libraries for this assignment. We will use `alpaca trade api` to pull historical stocks and bonds information. `MCSimulation` is used to estimate the possible outcomes of an uncertain events."
   ]
  },
  {
   "cell_type": "code",
   "execution_count": 1,
   "metadata": {},
   "outputs": [],
   "source": [
    "import os\n",
    "import requests\n",
    "import pandas as pd\n",
    "from dotenv import load_dotenv\n",
    "import alpaca_trade_api as tradeapi\n",
    "from MCForecastTools import MCSimulation\n",
    "\n",
    "%matplotlib inline"
   ]
  },
  {
   "cell_type": "markdown",
   "metadata": {},
   "source": [
    "Change the style how pandas dataframes will be displayed"
   ]
  },
  {
   "cell_type": "code",
   "execution_count": 2,
   "metadata": {},
   "outputs": [
    {
     "data": {
      "text/html": [
       "<style type=\"text/css\">\n",
       "table.dataframe td, table.dataframe th {\n",
       "    border: 1px  black solid !important;\n",
       "  color: black !important;\n",
       "}\n",
       "</style>\n"
      ],
      "text/plain": [
       "<IPython.core.display.HTML object>"
      ]
     },
     "metadata": {},
     "output_type": "display_data"
    }
   ],
   "source": [
    "%%HTML\n",
    "<style type=\"text/css\">\n",
    "table.dataframe td, table.dataframe th {\n",
    "    border: 1px  black solid !important;\n",
    "  color: black !important;\n",
    "}\n",
    "</style>"
   ]
  },
  {
   "cell_type": "markdown",
   "metadata": {},
   "source": [
    "**Load .env enviroment variables**\n",
    "\n",
    "The environment variables include the API and secret keys required for calling the Alpaca trade api."
   ]
  },
  {
   "cell_type": "code",
   "execution_count": 3,
   "metadata": {},
   "outputs": [
    {
     "data": {
      "text/plain": [
       "True"
      ]
     },
     "execution_count": 3,
     "metadata": {},
     "output_type": "execute_result"
    }
   ],
   "source": [
    "load_dotenv()"
   ]
  },
  {
   "cell_type": "markdown",
   "metadata": {},
   "source": [
    "## Part 1 - Personal Finance Planner"
   ]
  },
  {
   "cell_type": "markdown",
   "metadata": {},
   "source": [
    "### Collect Crypto Prices Using the `requests` Library"
   ]
  },
  {
   "cell_type": "markdown",
   "metadata": {},
   "source": [
    "**Set current amount of crypto assets**\n",
    "\n",
    "First we create the variables `my_btc` and `my_eth` and store the assumed amount of crypto assets."
   ]
  },
  {
   "cell_type": "code",
   "execution_count": 4,
   "metadata": {},
   "outputs": [],
   "source": [
    "my_btc = 1.2\n",
    "my_eth = 5.3"
   ]
  },
  {
   "cell_type": "markdown",
   "metadata": {},
   "source": [
    "**Crypto API URLs**\n",
    "\n",
    "We will be using the following API urls for fetching the current price of bitcoin and ethereum"
   ]
  },
  {
   "cell_type": "code",
   "execution_count": 5,
   "metadata": {},
   "outputs": [],
   "source": [
    "btc_url = \"https://api.alternative.me/v2/ticker/Bitcoin/?format=json\"\n",
    "eth_url = \"https://api.alternative.me/v2/ticker/Ethereum/?format=json\""
   ]
  },
  {
   "cell_type": "markdown",
   "metadata": {},
   "source": [
    "**Execute get request**"
   ]
  },
  {
   "cell_type": "markdown",
   "metadata": {},
   "source": [
    "\n",
    "We will use `request` library to fetch the current price in US dollars of bitcoin('BTC') and ethereum('ETH') using [Alternative free crypto api](https://alternative.me/crypto/api/)."
   ]
  },
  {
   "cell_type": "code",
   "execution_count": 6,
   "metadata": {},
   "outputs": [
    {
     "data": {
      "text/plain": [
       "{'data': {'1': {'id': 1,\n",
       "   'name': 'Bitcoin',\n",
       "   'symbol': 'BTC',\n",
       "   'website_slug': 'bitcoin',\n",
       "   'rank': 1,\n",
       "   'circulating_supply': 18664612,\n",
       "   'total_supply': 18664612,\n",
       "   'max_supply': 21000000,\n",
       "   'quotes': {'USD': {'price': 52732.0,\n",
       "     'volume_24h': 61051284353,\n",
       "     'market_cap': 979202768444,\n",
       "     'percentage_change_1h': 0.378212735689377,\n",
       "     'percentage_change_24h': 0.770037248717252,\n",
       "     'percentage_change_7d': -8.96069362790647,\n",
       "     'percent_change_1h': 0.378212735689377,\n",
       "     'percent_change_24h': 0.770037248717252,\n",
       "     'percent_change_7d': -8.96069362790647}},\n",
       "   'last_updated': 1616734446}},\n",
       " 'metadata': {'timestamp': 1616734446,\n",
       "  'num_cryptocurrencies': 1329,\n",
       "  'error': None}}"
      ]
     },
     "execution_count": 6,
     "metadata": {},
     "output_type": "execute_result"
    }
   ],
   "source": [
    "btc_json = requests.get(btc_url).json()\n",
    "btc_json"
   ]
  },
  {
   "cell_type": "code",
   "execution_count": 7,
   "metadata": {},
   "outputs": [
    {
     "data": {
      "text/plain": [
       "{'data': {'1027': {'id': 1027,\n",
       "   'name': 'Ethereum',\n",
       "   'symbol': 'ETH',\n",
       "   'website_slug': 'ethereum',\n",
       "   'rank': 2,\n",
       "   'circulating_supply': 115204034,\n",
       "   'total_supply': 115204034,\n",
       "   'max_supply': 0,\n",
       "   'quotes': {'USD': {'price': 1624.58,\n",
       "     'volume_24h': 26378405710,\n",
       "     'market_cap': 186677734027,\n",
       "     'percentage_change_1h': 0.137185981162874,\n",
       "     'percentage_change_24h': 3.01795762386063,\n",
       "     'percentage_change_7d': -8.73964655626564,\n",
       "     'percent_change_1h': 0.137185981162874,\n",
       "     'percent_change_24h': 3.01795762386063,\n",
       "     'percent_change_7d': -8.73964655626564}},\n",
       "   'last_updated': 1616734447}},\n",
       " 'metadata': {'timestamp': 1616734447,\n",
       "  'num_cryptocurrencies': 1329,\n",
       "  'error': None}}"
      ]
     },
     "execution_count": 7,
     "metadata": {},
     "output_type": "execute_result"
    }
   ],
   "source": [
    "eth_json = requests.get(eth_url).json()\n",
    "eth_json"
   ]
  },
  {
   "cell_type": "markdown",
   "metadata": {},
   "source": [
    "**Extract current BTC and ETH price**\n",
    "\n",
    "From the above JSON responses, we extract the current prices of BTC and ETH using their responding ids. The BTC has `id` 1 and ETH has `id` 1027"
   ]
  },
  {
   "cell_type": "code",
   "execution_count": 8,
   "metadata": {},
   "outputs": [
    {
     "data": {
      "text/plain": [
       "52732.0"
      ]
     },
     "execution_count": 8,
     "metadata": {},
     "output_type": "execute_result"
    }
   ],
   "source": [
    "btc_price = btc_json['data']['1']['quotes']['USD']['price']\n",
    "btc_price"
   ]
  },
  {
   "cell_type": "code",
   "execution_count": 9,
   "metadata": {},
   "outputs": [
    {
     "data": {
      "text/plain": [
       "1624.58"
      ]
     },
     "execution_count": 9,
     "metadata": {},
     "output_type": "execute_result"
    }
   ],
   "source": [
    "eth_price = eth_json['data']['1027']['quotes']['USD']['price']\n",
    "eth_price"
   ]
  },
  {
   "cell_type": "markdown",
   "metadata": {},
   "source": [
    "**Compute current value of my crypto assets**\n",
    "\n",
    "Calculate the total current values of the crypto assets by multiplying the amount of assets with their current market price."
   ]
  },
  {
   "cell_type": "code",
   "execution_count": 10,
   "metadata": {},
   "outputs": [
    {
     "name": "stdout",
     "output_type": "stream",
     "text": [
      "The current value of your 1.2 BTC is $63278.40\n",
      "The current value of your 5.3 ETH is $8610.27\n"
     ]
    }
   ],
   "source": [
    "my_btc_value = my_btc * btc_price\n",
    "my_eth_value = my_eth * eth_price\n",
    "print(f\"The current value of your {my_btc} BTC is ${my_btc_value:0.2f}\")\n",
    "print(f\"The current value of your {my_eth} ETH is ${my_eth_value:0.2f}\")"
   ]
  },
  {
   "cell_type": "markdown",
   "metadata": {},
   "source": [
    "### Collect Investments Data Using Alpaca: `SPY` (stocks) and `AGG` (bonds)"
   ]
  },
  {
   "cell_type": "markdown",
   "metadata": {},
   "source": [
    "**Set current amount of shares**\n",
    "\n",
    "Let's create two variables `my_agg` and `my_spy` and set the following current amount of shares:"
   ]
  },
  {
   "cell_type": "code",
   "execution_count": 11,
   "metadata": {},
   "outputs": [],
   "source": [
    "my_agg = 200\n",
    "my_spy = 50"
   ]
  },
  {
   "cell_type": "markdown",
   "metadata": {},
   "source": [
    "**Set Alpaca API key and secret**\n",
    "\n",
    "Set the `alpaca_api_key` and `alpaca_secret_key` from the environment variables using   `os.getenv` function."
   ]
  },
  {
   "cell_type": "code",
   "execution_count": 12,
   "metadata": {},
   "outputs": [],
   "source": [
    "alpaca_api_key = os.getenv(\"ALPACA_API_KEY\")\n",
    "alpaca_secret_key = os.getenv(\"ALPACA_SECRET_KEY\")"
   ]
  },
  {
   "cell_type": "markdown",
   "metadata": {},
   "source": [
    "Verify that Alpaca key and secret were correctly loaded"
   ]
  },
  {
   "cell_type": "code",
   "execution_count": 13,
   "metadata": {},
   "outputs": [
    {
     "name": "stdout",
     "output_type": "stream",
     "text": [
      "Key type: <class 'str'>\n",
      "Secret type: <class 'str'>\n"
     ]
    }
   ],
   "source": [
    "print(f\"Key type: {type(alpaca_api_key)}\")\n",
    "print(f\"Secret type: {type(alpaca_secret_key)}\")"
   ]
  },
  {
   "cell_type": "markdown",
   "metadata": {},
   "source": [
    "**Create the Alpaca API object**\n",
    "\n",
    "Create `api` object by using `tradeapi.REST` function from the alpaca SDK."
   ]
  },
  {
   "cell_type": "code",
   "execution_count": 14,
   "metadata": {},
   "outputs": [],
   "source": [
    "api = tradeapi.REST(\n",
    "    alpaca_api_key,\n",
    "    alpaca_secret_key,\n",
    "    api_version=\"v2\"\n",
    ")"
   ]
  },
  {
   "cell_type": "markdown",
   "metadata": {},
   "source": [
    "**Format current date as ISO format**"
   ]
  },
  {
   "cell_type": "code",
   "execution_count": 15,
   "metadata": {},
   "outputs": [],
   "source": [
    "current_date = pd.Timestamp(\"2021-03-25\", tz=\"America/New_York\").isoformat()"
   ]
  },
  {
   "cell_type": "markdown",
   "metadata": {},
   "source": [
    "**Create a list of tickers with two elements which are the symbols `AGG` and `SPY`**"
   ]
  },
  {
   "cell_type": "code",
   "execution_count": 16,
   "metadata": {},
   "outputs": [],
   "source": [
    "tickers = [\"AGG\", \"SPY\"]"
   ]
  },
  {
   "cell_type": "markdown",
   "metadata": {},
   "source": [
    "**Set timeframe to '1D' for Alpaca API**"
   ]
  },
  {
   "cell_type": "code",
   "execution_count": 17,
   "metadata": {},
   "outputs": [],
   "source": [
    "timeframe = \"1D\""
   ]
  },
  {
   "cell_type": "markdown",
   "metadata": {},
   "source": [
    "**Get the current closing prices for `AGG` and `SPY`**\n",
    "\n",
    "We will call the alpaca `get_batset` api to retrieve the current closing prices of the ticker symbols. \n",
    "\n",
    "Then, we convert the response to a pandas dataframe and assign it to a variable `df_tickers`."
   ]
  },
  {
   "cell_type": "code",
   "execution_count": 18,
   "metadata": {},
   "outputs": [],
   "source": [
    "df_tickers = api.get_barset(\n",
    "    tickers,\n",
    "    timeframe,\n",
    "    start = current_date,\n",
    "    end = current_date \n",
    ").df"
   ]
  },
  {
   "cell_type": "markdown",
   "metadata": {},
   "source": [
    "**Preview the dataframe**"
   ]
  },
  {
   "cell_type": "code",
   "execution_count": 19,
   "metadata": {},
   "outputs": [
    {
     "data": {
      "text/html": [
       "<div>\n",
       "<style scoped>\n",
       "    .dataframe tbody tr th:only-of-type {\n",
       "        vertical-align: middle;\n",
       "    }\n",
       "\n",
       "    .dataframe tbody tr th {\n",
       "        vertical-align: top;\n",
       "    }\n",
       "\n",
       "    .dataframe thead tr th {\n",
       "        text-align: left;\n",
       "    }\n",
       "\n",
       "    .dataframe thead tr:last-of-type th {\n",
       "        text-align: right;\n",
       "    }\n",
       "</style>\n",
       "<table border=\"1\" class=\"dataframe\">\n",
       "  <thead>\n",
       "    <tr>\n",
       "      <th></th>\n",
       "      <th colspan=\"5\" halign=\"left\">AGG</th>\n",
       "      <th colspan=\"5\" halign=\"left\">SPY</th>\n",
       "    </tr>\n",
       "    <tr>\n",
       "      <th></th>\n",
       "      <th>open</th>\n",
       "      <th>high</th>\n",
       "      <th>low</th>\n",
       "      <th>close</th>\n",
       "      <th>volume</th>\n",
       "      <th>open</th>\n",
       "      <th>high</th>\n",
       "      <th>low</th>\n",
       "      <th>close</th>\n",
       "      <th>volume</th>\n",
       "    </tr>\n",
       "    <tr>\n",
       "      <th>time</th>\n",
       "      <th></th>\n",
       "      <th></th>\n",
       "      <th></th>\n",
       "      <th></th>\n",
       "      <th></th>\n",
       "      <th></th>\n",
       "      <th></th>\n",
       "      <th></th>\n",
       "      <th></th>\n",
       "      <th></th>\n",
       "    </tr>\n",
       "  </thead>\n",
       "  <tbody>\n",
       "    <tr>\n",
       "      <th>2021-03-25 00:00:00-04:00</th>\n",
       "      <td>114.24</td>\n",
       "      <td>114.29</td>\n",
       "      <td>113.99</td>\n",
       "      <td>114.095</td>\n",
       "      <td>5051494</td>\n",
       "      <td>385.98</td>\n",
       "      <td>390.55</td>\n",
       "      <td>383.9</td>\n",
       "      <td>389.64</td>\n",
       "      <td>99874063</td>\n",
       "    </tr>\n",
       "  </tbody>\n",
       "</table>\n",
       "</div>"
      ],
      "text/plain": [
       "                              AGG                                       SPY  \\\n",
       "                             open    high     low    close   volume    open   \n",
       "time                                                                          \n",
       "2021-03-25 00:00:00-04:00  114.24  114.29  113.99  114.095  5051494  385.98   \n",
       "\n",
       "                                                            \n",
       "                             high    low   close    volume  \n",
       "time                                                        \n",
       "2021-03-25 00:00:00-04:00  390.55  383.9  389.64  99874063  "
      ]
     },
     "execution_count": 19,
     "metadata": {},
     "output_type": "execute_result"
    }
   ],
   "source": [
    "df_tickers"
   ]
  },
  {
   "cell_type": "markdown",
   "metadata": {},
   "source": [
    "**Pick AGG and SPY close prices**\n",
    "\n",
    "Create two variables `agg_close_price` and `spy_close_price` to store the closing prices. "
   ]
  },
  {
   "cell_type": "code",
   "execution_count": 20,
   "metadata": {},
   "outputs": [],
   "source": [
    "agg_close_price = float(df_tickers['AGG']['close'])\n",
    "spy_close_price = float(df_tickers['SPY']['close'])"
   ]
  },
  {
   "cell_type": "markdown",
   "metadata": {},
   "source": [
    "**Print AGG and SPY close prices**"
   ]
  },
  {
   "cell_type": "code",
   "execution_count": 21,
   "metadata": {},
   "outputs": [
    {
     "name": "stdout",
     "output_type": "stream",
     "text": [
      "Current AGG closing price: $114.095\n",
      "Current SPY closing price: $389.64\n"
     ]
    }
   ],
   "source": [
    "print(f\"Current AGG closing price: ${agg_close_price}\")\n",
    "print(f\"Current SPY closing price: ${spy_close_price}\")"
   ]
  },
  {
   "cell_type": "markdown",
   "metadata": {},
   "source": [
    "**Compute the current value of shares**\n",
    "\n",
    "Create variables `my_agg_value` and `my_spy_value` to store the current value of shares.\n",
    "\n",
    "To get the current value of AGG, we need to multiply the closing price `agg_close_price` and current amount of AGG `my_agg`.\n",
    "To get the current value of SPY, we need to multiply the closing price `spy_close_price` and current amount of SPY `my_spy`."
   ]
  },
  {
   "cell_type": "code",
   "execution_count": 22,
   "metadata": {},
   "outputs": [],
   "source": [
    "my_agg_value = agg_close_price * my_agg\n",
    "my_spy_value = spy_close_price * my_spy"
   ]
  },
  {
   "cell_type": "markdown",
   "metadata": {},
   "source": [
    "**Print current value of shares**"
   ]
  },
  {
   "cell_type": "code",
   "execution_count": 23,
   "metadata": {},
   "outputs": [
    {
     "name": "stdout",
     "output_type": "stream",
     "text": [
      "The current value of your 200 AGG shares is $22819.00.\n",
      "The current value of your 50 SPY shares is $19482.00.\n"
     ]
    }
   ],
   "source": [
    "print(f\"The current value of your {my_agg} AGG shares is ${my_agg_value:0.2f}.\")\n",
    "print(f\"The current value of your {my_spy} SPY shares is ${my_spy_value:0.2f}.\")"
   ]
  },
  {
   "cell_type": "markdown",
   "metadata": {},
   "source": [
    "### Savings Health Analysis\n",
    "\n",
    "In this section, we will assess the financial health of the credit union's members."
   ]
  },
  {
   "cell_type": "markdown",
   "metadata": {},
   "source": [
    "**Set monthly household income**\n",
    "\n",
    "Create a variable `monthly_income` and set its value to `12000`."
   ]
  },
  {
   "cell_type": "code",
   "execution_count": 24,
   "metadata": {},
   "outputs": [],
   "source": [
    "monthly_income = 12000"
   ]
  },
  {
   "cell_type": "markdown",
   "metadata": {},
   "source": [
    "**Create savings DataFrame**\n",
    "\n",
    "Before we create the dataframe, let's first calculate the total value of crypto assets and shares and store in `crypto_value` and `shares_value`."
   ]
  },
  {
   "cell_type": "code",
   "execution_count": 25,
   "metadata": {},
   "outputs": [],
   "source": [
    "crypto_value = my_btc_value + my_eth_value\n",
    "shares_value = my_agg_value + my_spy_value"
   ]
  },
  {
   "cell_type": "markdown",
   "metadata": {},
   "source": [
    "**Create dataframe**\n",
    "\n",
    "To analyze savings health, we then create a savings dataframe `df_savings` with two rows (`crypto` , `shares`) and one column (`amount`)."
   ]
  },
  {
   "cell_type": "code",
   "execution_count": 26,
   "metadata": {},
   "outputs": [],
   "source": [
    "df_savings = pd.DataFrame(\n",
    "    [crypto_value, shares_value], \n",
    "    columns=[\"amount\"], \n",
    "    index=[\"crypto\", \"shares\"]\n",
    ")"
   ]
  },
  {
   "cell_type": "markdown",
   "metadata": {},
   "source": [
    "**Display the savings dataframe**"
   ]
  },
  {
   "cell_type": "code",
   "execution_count": 27,
   "metadata": {},
   "outputs": [
    {
     "data": {
      "text/html": [
       "<div>\n",
       "<style scoped>\n",
       "    .dataframe tbody tr th:only-of-type {\n",
       "        vertical-align: middle;\n",
       "    }\n",
       "\n",
       "    .dataframe tbody tr th {\n",
       "        vertical-align: top;\n",
       "    }\n",
       "\n",
       "    .dataframe thead th {\n",
       "        text-align: right;\n",
       "    }\n",
       "</style>\n",
       "<table border=\"1\" class=\"dataframe\">\n",
       "  <thead>\n",
       "    <tr style=\"text-align: right;\">\n",
       "      <th></th>\n",
       "      <th>amount</th>\n",
       "    </tr>\n",
       "  </thead>\n",
       "  <tbody>\n",
       "    <tr>\n",
       "      <th>crypto</th>\n",
       "      <td>71888.674</td>\n",
       "    </tr>\n",
       "    <tr>\n",
       "      <th>shares</th>\n",
       "      <td>42301.000</td>\n",
       "    </tr>\n",
       "  </tbody>\n",
       "</table>\n",
       "</div>"
      ],
      "text/plain": [
       "           amount\n",
       "crypto  71888.674\n",
       "shares  42301.000"
      ]
     },
     "metadata": {},
     "output_type": "display_data"
    }
   ],
   "source": [
    "display(df_savings)"
   ]
  },
  {
   "cell_type": "markdown",
   "metadata": {},
   "source": [
    "**Plot savings pie chart**\n",
    "\n",
    "We will use a pie chart to visualize the composition of personal savings.\n",
    "\n",
    "From the pie chart, we can observe that the crypto assets have a higher contribution towards the personal savings."
   ]
  },
  {
   "cell_type": "code",
   "execution_count": 28,
   "metadata": {},
   "outputs": [
    {
     "data": {
      "text/plain": [
       "<AxesSubplot:title={'center':'Composition of Personal Savings'}, ylabel='amount'>"
      ]
     },
     "execution_count": 28,
     "metadata": {},
     "output_type": "execute_result"
    },
    {
     "data": {
      "image/png": "[encoded data removed]",
      "text/plain": [
       "<Figure size 432x288 with 1 Axes>"
      ]
     },
     "metadata": {},
     "output_type": "display_data"
    }
   ],
   "source": [
    "df_savings.plot.pie(y=\"amount\", title=\"Composition of Personal Savings\")"
   ]
  },
  {
   "cell_type": "markdown",
   "metadata": {},
   "source": [
    "**Set ideal emergency fund**\n",
    "\n",
    "According to experts, the ideal emergency fund should have enough money to cover at least 3 to 6 months' worth of living expenses. \n",
    "\n",
    "So let's create a variable `emergency_fund` to store the ideal emergency fund."
   ]
  },
  {
   "cell_type": "code",
   "execution_count": 29,
   "metadata": {},
   "outputs": [],
   "source": [
    "emergency_fund = monthly_income * 3"
   ]
  },
  {
   "cell_type": "markdown",
   "metadata": {},
   "source": [
    "**Calculate total amount of savings**\n",
    "\n",
    "To calculate the total amount of savings we just add `crypto_value` and ` shares_value`.\n",
    "\n",
    "Store the resulting sum in a variable `total_savings`."
   ]
  },
  {
   "cell_type": "code",
   "execution_count": 30,
   "metadata": {},
   "outputs": [],
   "source": [
    "total_savings = crypto_value + shares_value"
   ]
  },
  {
   "cell_type": "markdown",
   "metadata": {},
   "source": [
    "**Validate saving health**\n",
    "\n",
    "Finally, we validate the savings health of the members by using the following conditional logic.\n",
    "    \n",
    "* If total savings are greater than the emergency fund, display a message congratulating the person for having enough money in this fund.\n",
    "\n",
    "* If total savings are equal to the emergency fund, display a message congratulating the person on reaching this financial goal.\n",
    "\n",
    "* If total savings are less than the emergency fund, display a message showing how many dollars away the person is from reaching the goal.\n"
   ]
  },
  {
   "cell_type": "code",
   "execution_count": 31,
   "metadata": {},
   "outputs": [
    {
     "name": "stdout",
     "output_type": "stream",
     "text": [
      "Congratulation! You have enough money in your fund.\n"
     ]
    }
   ],
   "source": [
    "if total_savings > emergency_fund:\n",
    "    print(\"Congratulation! You have enough money in your fund.\")\n",
    "elif total_savings == emergency_fund:\n",
    "    print(\"Congratulation! You have reached your financial goal.\")\n",
    "else:\n",
    "    print(f\"You are ${emergency_fund - total_savings} away from reaching your financial goal.\")      "
   ]
  },
  {
   "cell_type": "markdown",
   "metadata": {},
   "source": [
    "## Part 2 - Retirement Planning\n",
    "\n",
    "In this section, we will use the Alpaca API to fetch historical closing prices for a retirement portfolio. \n",
    "\n",
    "By the use of MCForecastTools toolkit, we will create a Monte Carlo simulations to project the portfolio performance at `30` years.\n",
    "\n",
    "### Monte Carlo Simulation\n",
    "\n",
    "A Monte Carlo simulation is a model used to predict the probability of different outcomes when the intervention of random variables is present. Monte Carlo simulations help to explain the impact of risk and uncertainty in prediction and forecasting models."
   ]
  },
  {
   "cell_type": "markdown",
   "metadata": {},
   "source": [
    "Set start and end dates of five years back from today"
   ]
  },
  {
   "cell_type": "code",
   "execution_count": 32,
   "metadata": {},
   "outputs": [],
   "source": [
    "start_date = pd.Timestamp('2016-03-25', tz='America/New_York').isoformat()\n",
    "end_date = pd.Timestamp('2021-03-25', tz='America/New_York').isoformat()"
   ]
  },
  {
   "cell_type": "markdown",
   "metadata": {},
   "source": [
    "**Set the tickers**"
   ]
  },
  {
   "cell_type": "code",
   "execution_count": 33,
   "metadata": {},
   "outputs": [],
   "source": [
    "tickers = [\"AGG\", \"SPY\"]"
   ]
  },
  {
   "cell_type": "markdown",
   "metadata": {},
   "source": [
    "**Set timeframe to '1D' for Alpaca API**"
   ]
  },
  {
   "cell_type": "code",
   "execution_count": 34,
   "metadata": {},
   "outputs": [],
   "source": [
    "timeframe = \"1D\""
   ]
  },
  {
   "cell_type": "markdown",
   "metadata": {},
   "source": [
    "**Get 5 years' worth of historical data for AGG and SPY**\n",
    " \n",
    "Call the Alpaca `get_barset` api to fetch the  five years of historical data for `tickers`.\n",
    "\n",
    "Convert the response to a pandas dataframe `df_stock_data`."
   ]
  },
  {
   "cell_type": "code",
   "execution_count": 35,
   "metadata": {},
   "outputs": [],
   "source": [
    "df_stock_data = api.get_barset(\n",
    "    tickers,\n",
    "    timeframe,\n",
    "    start = start_date,\n",
    "    end = end_date,\n",
    "    limit = 1000\n",
    ").df"
   ]
  },
  {
   "cell_type": "markdown",
   "metadata": {},
   "source": [
    "**Display some sample data**"
   ]
  },
  {
   "cell_type": "code",
   "execution_count": 36,
   "metadata": {},
   "outputs": [
    {
     "data": {
      "text/html": [
       "<div>\n",
       "<style scoped>\n",
       "    .dataframe tbody tr th:only-of-type {\n",
       "        vertical-align: middle;\n",
       "    }\n",
       "\n",
       "    .dataframe tbody tr th {\n",
       "        vertical-align: top;\n",
       "    }\n",
       "\n",
       "    .dataframe thead tr th {\n",
       "        text-align: left;\n",
       "    }\n",
       "\n",
       "    .dataframe thead tr:last-of-type th {\n",
       "        text-align: right;\n",
       "    }\n",
       "</style>\n",
       "<table border=\"1\" class=\"dataframe\">\n",
       "  <thead>\n",
       "    <tr>\n",
       "      <th></th>\n",
       "      <th colspan=\"5\" halign=\"left\">AGG</th>\n",
       "      <th colspan=\"5\" halign=\"left\">SPY</th>\n",
       "    </tr>\n",
       "    <tr>\n",
       "      <th></th>\n",
       "      <th>open</th>\n",
       "      <th>high</th>\n",
       "      <th>low</th>\n",
       "      <th>close</th>\n",
       "      <th>volume</th>\n",
       "      <th>open</th>\n",
       "      <th>high</th>\n",
       "      <th>low</th>\n",
       "      <th>close</th>\n",
       "      <th>volume</th>\n",
       "    </tr>\n",
       "    <tr>\n",
       "      <th>time</th>\n",
       "      <th></th>\n",
       "      <th></th>\n",
       "      <th></th>\n",
       "      <th></th>\n",
       "      <th></th>\n",
       "      <th></th>\n",
       "      <th></th>\n",
       "      <th></th>\n",
       "      <th></th>\n",
       "      <th></th>\n",
       "    </tr>\n",
       "  </thead>\n",
       "  <tbody>\n",
       "    <tr>\n",
       "      <th>2017-04-04 00:00:00-04:00</th>\n",
       "      <td>108.61</td>\n",
       "      <td>108.65</td>\n",
       "      <td>108.5200</td>\n",
       "      <td>108.56</td>\n",
       "      <td>1482935.0</td>\n",
       "      <td>NaN</td>\n",
       "      <td>NaN</td>\n",
       "      <td>NaN</td>\n",
       "      <td>NaN</td>\n",
       "      <td>NaN</td>\n",
       "    </tr>\n",
       "    <tr>\n",
       "      <th>2017-04-05 00:00:00-04:00</th>\n",
       "      <td>108.48</td>\n",
       "      <td>108.74</td>\n",
       "      <td>108.4530</td>\n",
       "      <td>108.69</td>\n",
       "      <td>1900282.0</td>\n",
       "      <td>236.26</td>\n",
       "      <td>237.390</td>\n",
       "      <td>234.540</td>\n",
       "      <td>234.77</td>\n",
       "      <td>84819899.0</td>\n",
       "    </tr>\n",
       "    <tr>\n",
       "      <th>2017-04-06 00:00:00-04:00</th>\n",
       "      <td>108.64</td>\n",
       "      <td>108.71</td>\n",
       "      <td>108.4800</td>\n",
       "      <td>108.67</td>\n",
       "      <td>1599535.0</td>\n",
       "      <td>234.95</td>\n",
       "      <td>236.040</td>\n",
       "      <td>234.425</td>\n",
       "      <td>235.39</td>\n",
       "      <td>53559902.0</td>\n",
       "    </tr>\n",
       "    <tr>\n",
       "      <th>2017-04-07 00:00:00-04:00</th>\n",
       "      <td>108.80</td>\n",
       "      <td>108.89</td>\n",
       "      <td>108.4200</td>\n",
       "      <td>108.44</td>\n",
       "      <td>1668826.0</td>\n",
       "      <td>235.15</td>\n",
       "      <td>236.000</td>\n",
       "      <td>234.640</td>\n",
       "      <td>235.17</td>\n",
       "      <td>53293901.0</td>\n",
       "    </tr>\n",
       "    <tr>\n",
       "      <th>2017-04-10 00:00:00-04:00</th>\n",
       "      <td>108.53</td>\n",
       "      <td>108.65</td>\n",
       "      <td>108.4901</td>\n",
       "      <td>108.57</td>\n",
       "      <td>1751500.0</td>\n",
       "      <td>235.36</td>\n",
       "      <td>236.255</td>\n",
       "      <td>234.730</td>\n",
       "      <td>235.32</td>\n",
       "      <td>46610548.0</td>\n",
       "    </tr>\n",
       "  </tbody>\n",
       "</table>\n",
       "</div>"
      ],
      "text/plain": [
       "                              AGG                                       \\\n",
       "                             open    high       low   close     volume   \n",
       "time                                                                     \n",
       "2017-04-04 00:00:00-04:00  108.61  108.65  108.5200  108.56  1482935.0   \n",
       "2017-04-05 00:00:00-04:00  108.48  108.74  108.4530  108.69  1900282.0   \n",
       "2017-04-06 00:00:00-04:00  108.64  108.71  108.4800  108.67  1599535.0   \n",
       "2017-04-07 00:00:00-04:00  108.80  108.89  108.4200  108.44  1668826.0   \n",
       "2017-04-10 00:00:00-04:00  108.53  108.65  108.4901  108.57  1751500.0   \n",
       "\n",
       "                              SPY                                        \n",
       "                             open     high      low   close      volume  \n",
       "time                                                                     \n",
       "2017-04-04 00:00:00-04:00     NaN      NaN      NaN     NaN         NaN  \n",
       "2017-04-05 00:00:00-04:00  236.26  237.390  234.540  234.77  84819899.0  \n",
       "2017-04-06 00:00:00-04:00  234.95  236.040  234.425  235.39  53559902.0  \n",
       "2017-04-07 00:00:00-04:00  235.15  236.000  234.640  235.17  53293901.0  \n",
       "2017-04-10 00:00:00-04:00  235.36  236.255  234.730  235.32  46610548.0  "
      ]
     },
     "execution_count": 36,
     "metadata": {},
     "output_type": "execute_result"
    }
   ],
   "source": [
    "df_stock_data.head()"
   ]
  },
  {
   "cell_type": "markdown",
   "metadata": {},
   "source": [
    "**Configuring a Monte Carlo simulation to forecast 30 years cumulative returns**\n",
    "\n",
    "Create a variable `MC_thirtyyears` to store the configuration of monte carlo simulation to forecast thirty years cumulative returns.\n",
    "\n",
    "Here, we are considering a traditional `40/60` portfolio. The composition of the portfolio is `60%` stocks of `SPY` and `40%` bonds of `AGG`."
   ]
  },
  {
   "cell_type": "code",
   "execution_count": 37,
   "metadata": {},
   "outputs": [],
   "source": [
    "MC_thirtyyears = MCSimulation(\n",
    "    portfolio_data = df_stock_data,\n",
    "    weights = [.40, .60],\n",
    "    num_simulation = 500,\n",
    "    num_trading_days = 252 * 30\n",
    ")"
   ]
  },
  {
   "cell_type": "markdown",
   "metadata": {},
   "source": [
    "**Print the simulation input data**"
   ]
  },
  {
   "cell_type": "code",
   "execution_count": 38,
   "metadata": {},
   "outputs": [
    {
     "data": {
      "text/html": [
       "<div>\n",
       "<style scoped>\n",
       "    .dataframe tbody tr th:only-of-type {\n",
       "        vertical-align: middle;\n",
       "    }\n",
       "\n",
       "    .dataframe tbody tr th {\n",
       "        vertical-align: top;\n",
       "    }\n",
       "\n",
       "    .dataframe thead tr th {\n",
       "        text-align: left;\n",
       "    }\n",
       "\n",
       "    .dataframe thead tr:last-of-type th {\n",
       "        text-align: right;\n",
       "    }\n",
       "</style>\n",
       "<table border=\"1\" class=\"dataframe\">\n",
       "  <thead>\n",
       "    <tr>\n",
       "      <th></th>\n",
       "      <th colspan=\"6\" halign=\"left\">AGG</th>\n",
       "      <th colspan=\"6\" halign=\"left\">SPY</th>\n",
       "    </tr>\n",
       "    <tr>\n",
       "      <th></th>\n",
       "      <th>open</th>\n",
       "      <th>high</th>\n",
       "      <th>low</th>\n",
       "      <th>close</th>\n",
       "      <th>volume</th>\n",
       "      <th>daily_return</th>\n",
       "      <th>open</th>\n",
       "      <th>high</th>\n",
       "      <th>low</th>\n",
       "      <th>close</th>\n",
       "      <th>volume</th>\n",
       "      <th>daily_return</th>\n",
       "    </tr>\n",
       "    <tr>\n",
       "      <th>time</th>\n",
       "      <th></th>\n",
       "      <th></th>\n",
       "      <th></th>\n",
       "      <th></th>\n",
       "      <th></th>\n",
       "      <th></th>\n",
       "      <th></th>\n",
       "      <th></th>\n",
       "      <th></th>\n",
       "      <th></th>\n",
       "      <th></th>\n",
       "      <th></th>\n",
       "    </tr>\n",
       "  </thead>\n",
       "  <tbody>\n",
       "    <tr>\n",
       "      <th>2017-04-04 00:00:00-04:00</th>\n",
       "      <td>108.61</td>\n",
       "      <td>108.65</td>\n",
       "      <td>108.5200</td>\n",
       "      <td>108.56</td>\n",
       "      <td>1482935.0</td>\n",
       "      <td>NaN</td>\n",
       "      <td>NaN</td>\n",
       "      <td>NaN</td>\n",
       "      <td>NaN</td>\n",
       "      <td>NaN</td>\n",
       "      <td>NaN</td>\n",
       "      <td>NaN</td>\n",
       "    </tr>\n",
       "    <tr>\n",
       "      <th>2017-04-05 00:00:00-04:00</th>\n",
       "      <td>108.48</td>\n",
       "      <td>108.74</td>\n",
       "      <td>108.4530</td>\n",
       "      <td>108.69</td>\n",
       "      <td>1900282.0</td>\n",
       "      <td>0.001197</td>\n",
       "      <td>236.26</td>\n",
       "      <td>237.390</td>\n",
       "      <td>234.540</td>\n",
       "      <td>234.77</td>\n",
       "      <td>84819899.0</td>\n",
       "      <td>NaN</td>\n",
       "    </tr>\n",
       "    <tr>\n",
       "      <th>2017-04-06 00:00:00-04:00</th>\n",
       "      <td>108.64</td>\n",
       "      <td>108.71</td>\n",
       "      <td>108.4800</td>\n",
       "      <td>108.67</td>\n",
       "      <td>1599535.0</td>\n",
       "      <td>-0.000184</td>\n",
       "      <td>234.95</td>\n",
       "      <td>236.040</td>\n",
       "      <td>234.425</td>\n",
       "      <td>235.39</td>\n",
       "      <td>53559902.0</td>\n",
       "      <td>0.002641</td>\n",
       "    </tr>\n",
       "    <tr>\n",
       "      <th>2017-04-07 00:00:00-04:00</th>\n",
       "      <td>108.80</td>\n",
       "      <td>108.89</td>\n",
       "      <td>108.4200</td>\n",
       "      <td>108.44</td>\n",
       "      <td>1668826.0</td>\n",
       "      <td>-0.002116</td>\n",
       "      <td>235.15</td>\n",
       "      <td>236.000</td>\n",
       "      <td>234.640</td>\n",
       "      <td>235.17</td>\n",
       "      <td>53293901.0</td>\n",
       "      <td>-0.000935</td>\n",
       "    </tr>\n",
       "    <tr>\n",
       "      <th>2017-04-10 00:00:00-04:00</th>\n",
       "      <td>108.53</td>\n",
       "      <td>108.65</td>\n",
       "      <td>108.4901</td>\n",
       "      <td>108.57</td>\n",
       "      <td>1751500.0</td>\n",
       "      <td>0.001199</td>\n",
       "      <td>235.36</td>\n",
       "      <td>236.255</td>\n",
       "      <td>234.730</td>\n",
       "      <td>235.32</td>\n",
       "      <td>46610548.0</td>\n",
       "      <td>0.000638</td>\n",
       "    </tr>\n",
       "  </tbody>\n",
       "</table>\n",
       "</div>"
      ],
      "text/plain": [
       "                              AGG                                       \\\n",
       "                             open    high       low   close     volume   \n",
       "time                                                                     \n",
       "2017-04-04 00:00:00-04:00  108.61  108.65  108.5200  108.56  1482935.0   \n",
       "2017-04-05 00:00:00-04:00  108.48  108.74  108.4530  108.69  1900282.0   \n",
       "2017-04-06 00:00:00-04:00  108.64  108.71  108.4800  108.67  1599535.0   \n",
       "2017-04-07 00:00:00-04:00  108.80  108.89  108.4200  108.44  1668826.0   \n",
       "2017-04-10 00:00:00-04:00  108.53  108.65  108.4901  108.57  1751500.0   \n",
       "\n",
       "                                           SPY                            \\\n",
       "                          daily_return    open     high      low   close   \n",
       "time                                                                       \n",
       "2017-04-04 00:00:00-04:00          NaN     NaN      NaN      NaN     NaN   \n",
       "2017-04-05 00:00:00-04:00     0.001197  236.26  237.390  234.540  234.77   \n",
       "2017-04-06 00:00:00-04:00    -0.000184  234.95  236.040  234.425  235.39   \n",
       "2017-04-07 00:00:00-04:00    -0.002116  235.15  236.000  234.640  235.17   \n",
       "2017-04-10 00:00:00-04:00     0.001199  235.36  236.255  234.730  235.32   \n",
       "\n",
       "                                                    \n",
       "                               volume daily_return  \n",
       "time                                                \n",
       "2017-04-04 00:00:00-04:00         NaN          NaN  \n",
       "2017-04-05 00:00:00-04:00  84819899.0          NaN  \n",
       "2017-04-06 00:00:00-04:00  53559902.0     0.002641  \n",
       "2017-04-07 00:00:00-04:00  53293901.0    -0.000935  \n",
       "2017-04-10 00:00:00-04:00  46610548.0     0.000638  "
      ]
     },
     "execution_count": 38,
     "metadata": {},
     "output_type": "execute_result"
    }
   ],
   "source": [
    "MC_thirtyyears.portfolio_data.head()"
   ]
  },
  {
   "cell_type": "markdown",
   "metadata": {},
   "source": [
    "**Monte Carlo Simulation**\n",
    "\n",
    "We will run a Monte Carlo simulation to forecast 30 years cumulative returns. To do this, we call the method `calc_cumulative_return`."
   ]
  },
  {
   "cell_type": "code",
   "execution_count": 39,
   "metadata": {},
   "outputs": [
    {
     "name": "stdout",
     "output_type": "stream",
     "text": [
      "Running Monte Carlo simulation number 0.\n",
      "Running Monte Carlo simulation number 10.\n",
      "Running Monte Carlo simulation number 20.\n",
      "Running Monte Carlo simulation number 30.\n",
      "Running Monte Carlo simulation number 40.\n",
      "Running Monte Carlo simulation number 50.\n",
      "Running Monte Carlo simulation number 60.\n",
      "Running Monte Carlo simulation number 70.\n",
      "Running Monte Carlo simulation number 80.\n",
      "Running Monte Carlo simulation number 90.\n",
      "Running Monte Carlo simulation number 100.\n",
      "Running Monte Carlo simulation number 110.\n",
      "Running Monte Carlo simulation number 120.\n",
      "Running Monte Carlo simulation number 130.\n",
      "Running Monte Carlo simulation number 140.\n",
      "Running Monte Carlo simulation number 150.\n",
      "Running Monte Carlo simulation number 160.\n",
      "Running Monte Carlo simulation number 170.\n",
      "Running Monte Carlo simulation number 180.\n",
      "Running Monte Carlo simulation number 190.\n",
      "Running Monte Carlo simulation number 200.\n",
      "Running Monte Carlo simulation number 210.\n",
      "Running Monte Carlo simulation number 220.\n",
      "Running Monte Carlo simulation number 230.\n",
      "Running Monte Carlo simulation number 240.\n",
      "Running Monte Carlo simulation number 250.\n",
      "Running Monte Carlo simulation number 260.\n",
      "Running Monte Carlo simulation number 270.\n",
      "Running Monte Carlo simulation number 280.\n",
      "Running Monte Carlo simulation number 290.\n",
      "Running Monte Carlo simulation number 300.\n",
      "Running Monte Carlo simulation number 310.\n",
      "Running Monte Carlo simulation number 320.\n",
      "Running Monte Carlo simulation number 330.\n",
      "Running Monte Carlo simulation number 340.\n",
      "Running Monte Carlo simulation number 350.\n",
      "Running Monte Carlo simulation number 360.\n",
      "Running Monte Carlo simulation number 370.\n",
      "Running Monte Carlo simulation number 380.\n",
      "Running Monte Carlo simulation number 390.\n",
      "Running Monte Carlo simulation number 400.\n",
      "Running Monte Carlo simulation number 410.\n",
      "Running Monte Carlo simulation number 420.\n",
      "Running Monte Carlo simulation number 430.\n",
      "Running Monte Carlo simulation number 440.\n",
      "Running Monte Carlo simulation number 450.\n",
      "Running Monte Carlo simulation number 460.\n",
      "Running Monte Carlo simulation number 470.\n",
      "Running Monte Carlo simulation number 480.\n",
      "Running Monte Carlo simulation number 490.\n"
     ]
    },
    {
     "data": {
      "text/html": [
       "<div>\n",
       "<style scoped>\n",
       "    .dataframe tbody tr th:only-of-type {\n",
       "        vertical-align: middle;\n",
       "    }\n",
       "\n",
       "    .dataframe tbody tr th {\n",
       "        vertical-align: top;\n",
       "    }\n",
       "\n",
       "    .dataframe thead th {\n",
       "        text-align: right;\n",
       "    }\n",
       "</style>\n",
       "<table border=\"1\" class=\"dataframe\">\n",
       "  <thead>\n",
       "    <tr style=\"text-align: right;\">\n",
       "      <th></th>\n",
       "      <th>0</th>\n",
       "      <th>1</th>\n",
       "      <th>2</th>\n",
       "      <th>3</th>\n",
       "      <th>4</th>\n",
       "      <th>5</th>\n",
       "      <th>6</th>\n",
       "      <th>7</th>\n",
       "      <th>8</th>\n",
       "      <th>9</th>\n",
       "      <th>...</th>\n",
       "      <th>490</th>\n",
       "      <th>491</th>\n",
       "      <th>492</th>\n",
       "      <th>493</th>\n",
       "      <th>494</th>\n",
       "      <th>495</th>\n",
       "      <th>496</th>\n",
       "      <th>497</th>\n",
       "      <th>498</th>\n",
       "      <th>499</th>\n",
       "    </tr>\n",
       "  </thead>\n",
       "  <tbody>\n",
       "    <tr>\n",
       "      <th>0</th>\n",
       "      <td>1.000000</td>\n",
       "      <td>1.000000</td>\n",
       "      <td>1.000000</td>\n",
       "      <td>1.000000</td>\n",
       "      <td>1.000000</td>\n",
       "      <td>1.000000</td>\n",
       "      <td>1.000000</td>\n",
       "      <td>1.000000</td>\n",
       "      <td>1.000000</td>\n",
       "      <td>1.000000</td>\n",
       "      <td>...</td>\n",
       "      <td>1.000000</td>\n",
       "      <td>1.000000</td>\n",
       "      <td>1.000000</td>\n",
       "      <td>1.000000</td>\n",
       "      <td>1.000000</td>\n",
       "      <td>1.000000</td>\n",
       "      <td>1.000000</td>\n",
       "      <td>1.000000</td>\n",
       "      <td>1.000000</td>\n",
       "      <td>1.000000</td>\n",
       "    </tr>\n",
       "    <tr>\n",
       "      <th>1</th>\n",
       "      <td>0.994456</td>\n",
       "      <td>1.004330</td>\n",
       "      <td>1.004205</td>\n",
       "      <td>1.009061</td>\n",
       "      <td>1.008526</td>\n",
       "      <td>0.998422</td>\n",
       "      <td>1.005593</td>\n",
       "      <td>1.018217</td>\n",
       "      <td>0.997625</td>\n",
       "      <td>0.998696</td>\n",
       "      <td>...</td>\n",
       "      <td>0.999371</td>\n",
       "      <td>1.011380</td>\n",
       "      <td>1.007120</td>\n",
       "      <td>1.001923</td>\n",
       "      <td>1.003880</td>\n",
       "      <td>0.997479</td>\n",
       "      <td>0.981912</td>\n",
       "      <td>0.988627</td>\n",
       "      <td>0.993453</td>\n",
       "      <td>1.011505</td>\n",
       "    </tr>\n",
       "    <tr>\n",
       "      <th>2</th>\n",
       "      <td>0.982186</td>\n",
       "      <td>1.005680</td>\n",
       "      <td>1.005784</td>\n",
       "      <td>1.020007</td>\n",
       "      <td>1.007499</td>\n",
       "      <td>0.981003</td>\n",
       "      <td>1.005914</td>\n",
       "      <td>1.024259</td>\n",
       "      <td>0.995961</td>\n",
       "      <td>0.993948</td>\n",
       "      <td>...</td>\n",
       "      <td>1.005942</td>\n",
       "      <td>1.014040</td>\n",
       "      <td>0.994368</td>\n",
       "      <td>0.997219</td>\n",
       "      <td>1.008602</td>\n",
       "      <td>1.006551</td>\n",
       "      <td>0.971692</td>\n",
       "      <td>1.001645</td>\n",
       "      <td>0.987541</td>\n",
       "      <td>1.015013</td>\n",
       "    </tr>\n",
       "    <tr>\n",
       "      <th>3</th>\n",
       "      <td>0.982575</td>\n",
       "      <td>1.004189</td>\n",
       "      <td>1.000361</td>\n",
       "      <td>1.027084</td>\n",
       "      <td>1.004203</td>\n",
       "      <td>0.966806</td>\n",
       "      <td>1.000063</td>\n",
       "      <td>1.018140</td>\n",
       "      <td>0.989350</td>\n",
       "      <td>1.002105</td>\n",
       "      <td>...</td>\n",
       "      <td>0.991681</td>\n",
       "      <td>1.014479</td>\n",
       "      <td>0.996605</td>\n",
       "      <td>0.989002</td>\n",
       "      <td>1.020686</td>\n",
       "      <td>1.001922</td>\n",
       "      <td>0.974496</td>\n",
       "      <td>1.011569</td>\n",
       "      <td>0.983000</td>\n",
       "      <td>1.014235</td>\n",
       "    </tr>\n",
       "    <tr>\n",
       "      <th>4</th>\n",
       "      <td>0.981999</td>\n",
       "      <td>0.998627</td>\n",
       "      <td>1.012782</td>\n",
       "      <td>1.025835</td>\n",
       "      <td>1.017471</td>\n",
       "      <td>0.967855</td>\n",
       "      <td>1.001129</td>\n",
       "      <td>1.012723</td>\n",
       "      <td>0.997226</td>\n",
       "      <td>0.990759</td>\n",
       "      <td>...</td>\n",
       "      <td>0.995329</td>\n",
       "      <td>1.003931</td>\n",
       "      <td>0.986795</td>\n",
       "      <td>0.983789</td>\n",
       "      <td>1.009285</td>\n",
       "      <td>1.001245</td>\n",
       "      <td>0.973500</td>\n",
       "      <td>1.003911</td>\n",
       "      <td>0.990027</td>\n",
       "      <td>1.017005</td>\n",
       "    </tr>\n",
       "    <tr>\n",
       "      <th>...</th>\n",
       "      <td>...</td>\n",
       "      <td>...</td>\n",
       "      <td>...</td>\n",
       "      <td>...</td>\n",
       "      <td>...</td>\n",
       "      <td>...</td>\n",
       "      <td>...</td>\n",
       "      <td>...</td>\n",
       "      <td>...</td>\n",
       "      <td>...</td>\n",
       "      <td>...</td>\n",
       "      <td>...</td>\n",
       "      <td>...</td>\n",
       "      <td>...</td>\n",
       "      <td>...</td>\n",
       "      <td>...</td>\n",
       "      <td>...</td>\n",
       "      <td>...</td>\n",
       "      <td>...</td>\n",
       "      <td>...</td>\n",
       "      <td>...</td>\n",
       "    </tr>\n",
       "    <tr>\n",
       "      <th>7556</th>\n",
       "      <td>9.360286</td>\n",
       "      <td>37.009079</td>\n",
       "      <td>9.975836</td>\n",
       "      <td>13.913155</td>\n",
       "      <td>9.505529</td>\n",
       "      <td>1.836073</td>\n",
       "      <td>11.265861</td>\n",
       "      <td>7.865910</td>\n",
       "      <td>43.452970</td>\n",
       "      <td>8.991866</td>\n",
       "      <td>...</td>\n",
       "      <td>4.993462</td>\n",
       "      <td>25.334102</td>\n",
       "      <td>10.498345</td>\n",
       "      <td>12.696177</td>\n",
       "      <td>8.613783</td>\n",
       "      <td>13.308886</td>\n",
       "      <td>11.427834</td>\n",
       "      <td>14.242219</td>\n",
       "      <td>9.894200</td>\n",
       "      <td>17.517424</td>\n",
       "    </tr>\n",
       "    <tr>\n",
       "      <th>7557</th>\n",
       "      <td>9.350607</td>\n",
       "      <td>37.363373</td>\n",
       "      <td>9.961589</td>\n",
       "      <td>14.088626</td>\n",
       "      <td>9.420657</td>\n",
       "      <td>1.836114</td>\n",
       "      <td>11.323784</td>\n",
       "      <td>7.909499</td>\n",
       "      <td>43.655624</td>\n",
       "      <td>9.076120</td>\n",
       "      <td>...</td>\n",
       "      <td>5.011763</td>\n",
       "      <td>25.256758</td>\n",
       "      <td>10.525767</td>\n",
       "      <td>12.681720</td>\n",
       "      <td>8.568261</td>\n",
       "      <td>13.493538</td>\n",
       "      <td>11.489367</td>\n",
       "      <td>14.206023</td>\n",
       "      <td>9.962655</td>\n",
       "      <td>17.572836</td>\n",
       "    </tr>\n",
       "    <tr>\n",
       "      <th>7558</th>\n",
       "      <td>9.418695</td>\n",
       "      <td>37.741864</td>\n",
       "      <td>9.969778</td>\n",
       "      <td>14.173731</td>\n",
       "      <td>9.531597</td>\n",
       "      <td>1.868808</td>\n",
       "      <td>11.192694</td>\n",
       "      <td>7.815613</td>\n",
       "      <td>43.547281</td>\n",
       "      <td>9.061591</td>\n",
       "      <td>...</td>\n",
       "      <td>5.000296</td>\n",
       "      <td>25.394220</td>\n",
       "      <td>10.454481</td>\n",
       "      <td>12.538445</td>\n",
       "      <td>8.526347</td>\n",
       "      <td>13.539214</td>\n",
       "      <td>11.464478</td>\n",
       "      <td>14.333924</td>\n",
       "      <td>9.930914</td>\n",
       "      <td>17.561630</td>\n",
       "    </tr>\n",
       "    <tr>\n",
       "      <th>7559</th>\n",
       "      <td>9.371088</td>\n",
       "      <td>37.408896</td>\n",
       "      <td>9.978852</td>\n",
       "      <td>14.184937</td>\n",
       "      <td>9.553638</td>\n",
       "      <td>1.877994</td>\n",
       "      <td>11.147836</td>\n",
       "      <td>7.849555</td>\n",
       "      <td>43.837384</td>\n",
       "      <td>9.083667</td>\n",
       "      <td>...</td>\n",
       "      <td>5.001963</td>\n",
       "      <td>25.084076</td>\n",
       "      <td>10.284162</td>\n",
       "      <td>12.701040</td>\n",
       "      <td>8.574841</td>\n",
       "      <td>13.643194</td>\n",
       "      <td>11.577522</td>\n",
       "      <td>14.264581</td>\n",
       "      <td>10.048649</td>\n",
       "      <td>17.321625</td>\n",
       "    </tr>\n",
       "    <tr>\n",
       "      <th>7560</th>\n",
       "      <td>9.472373</td>\n",
       "      <td>37.389687</td>\n",
       "      <td>10.010791</td>\n",
       "      <td>14.134552</td>\n",
       "      <td>9.735175</td>\n",
       "      <td>1.891521</td>\n",
       "      <td>11.151830</td>\n",
       "      <td>7.865790</td>\n",
       "      <td>43.667379</td>\n",
       "      <td>9.051083</td>\n",
       "      <td>...</td>\n",
       "      <td>5.020163</td>\n",
       "      <td>24.867501</td>\n",
       "      <td>10.431525</td>\n",
       "      <td>12.835201</td>\n",
       "      <td>8.493001</td>\n",
       "      <td>13.785883</td>\n",
       "      <td>11.621931</td>\n",
       "      <td>14.260383</td>\n",
       "      <td>10.133515</td>\n",
       "      <td>17.287597</td>\n",
       "    </tr>\n",
       "  </tbody>\n",
       "</table>\n",
       "<p>7561 rows × 500 columns</p>\n",
       "</div>"
      ],
      "text/plain": [
       "           0          1          2          3         4         5    \\\n",
       "0     1.000000   1.000000   1.000000   1.000000  1.000000  1.000000   \n",
       "1     0.994456   1.004330   1.004205   1.009061  1.008526  0.998422   \n",
       "2     0.982186   1.005680   1.005784   1.020007  1.007499  0.981003   \n",
       "3     0.982575   1.004189   1.000361   1.027084  1.004203  0.966806   \n",
       "4     0.981999   0.998627   1.012782   1.025835  1.017471  0.967855   \n",
       "...        ...        ...        ...        ...       ...       ...   \n",
       "7556  9.360286  37.009079   9.975836  13.913155  9.505529  1.836073   \n",
       "7557  9.350607  37.363373   9.961589  14.088626  9.420657  1.836114   \n",
       "7558  9.418695  37.741864   9.969778  14.173731  9.531597  1.868808   \n",
       "7559  9.371088  37.408896   9.978852  14.184937  9.553638  1.877994   \n",
       "7560  9.472373  37.389687  10.010791  14.134552  9.735175  1.891521   \n",
       "\n",
       "            6         7          8         9    ...       490        491  \\\n",
       "0      1.000000  1.000000   1.000000  1.000000  ...  1.000000   1.000000   \n",
       "1      1.005593  1.018217   0.997625  0.998696  ...  0.999371   1.011380   \n",
       "2      1.005914  1.024259   0.995961  0.993948  ...  1.005942   1.014040   \n",
       "3      1.000063  1.018140   0.989350  1.002105  ...  0.991681   1.014479   \n",
       "4      1.001129  1.012723   0.997226  0.990759  ...  0.995329   1.003931   \n",
       "...         ...       ...        ...       ...  ...       ...        ...   \n",
       "7556  11.265861  7.865910  43.452970  8.991866  ...  4.993462  25.334102   \n",
       "7557  11.323784  7.909499  43.655624  9.076120  ...  5.011763  25.256758   \n",
       "7558  11.192694  7.815613  43.547281  9.061591  ...  5.000296  25.394220   \n",
       "7559  11.147836  7.849555  43.837384  9.083667  ...  5.001963  25.084076   \n",
       "7560  11.151830  7.865790  43.667379  9.051083  ...  5.020163  24.867501   \n",
       "\n",
       "            492        493       494        495        496        497  \\\n",
       "0      1.000000   1.000000  1.000000   1.000000   1.000000   1.000000   \n",
       "1      1.007120   1.001923  1.003880   0.997479   0.981912   0.988627   \n",
       "2      0.994368   0.997219  1.008602   1.006551   0.971692   1.001645   \n",
       "3      0.996605   0.989002  1.020686   1.001922   0.974496   1.011569   \n",
       "4      0.986795   0.983789  1.009285   1.001245   0.973500   1.003911   \n",
       "...         ...        ...       ...        ...        ...        ...   \n",
       "7556  10.498345  12.696177  8.613783  13.308886  11.427834  14.242219   \n",
       "7557  10.525767  12.681720  8.568261  13.493538  11.489367  14.206023   \n",
       "7558  10.454481  12.538445  8.526347  13.539214  11.464478  14.333924   \n",
       "7559  10.284162  12.701040  8.574841  13.643194  11.577522  14.264581   \n",
       "7560  10.431525  12.835201  8.493001  13.785883  11.621931  14.260383   \n",
       "\n",
       "            498        499  \n",
       "0      1.000000   1.000000  \n",
       "1      0.993453   1.011505  \n",
       "2      0.987541   1.015013  \n",
       "3      0.983000   1.014235  \n",
       "4      0.990027   1.017005  \n",
       "...         ...        ...  \n",
       "7556   9.894200  17.517424  \n",
       "7557   9.962655  17.572836  \n",
       "7558   9.930914  17.561630  \n",
       "7559  10.048649  17.321625  \n",
       "7560  10.133515  17.287597  \n",
       "\n",
       "[7561 rows x 500 columns]"
      ]
     },
     "execution_count": 39,
     "metadata": {},
     "output_type": "execute_result"
    }
   ],
   "source": [
    "MC_thirtyyears.calc_cumulative_return()"
   ]
  },
  {
   "cell_type": "markdown",
   "metadata": {},
   "source": [
    "**Plot simulation outcomes**"
   ]
  },
  {
   "cell_type": "code",
   "execution_count": 40,
   "metadata": {},
   "outputs": [
    {
     "data": {
      "image/png": "[encoded data removed]",
      "text/plain": [
       "<Figure size 432x288 with 1 Axes>"
      ]
     },
     "metadata": {
      "needs_background": "light"
     },
     "output_type": "display_data"
    }
   ],
   "source": [
    "line_plot_thirty = MC_thirtyyears.plot_simulation()"
   ]
  },
  {
   "cell_type": "markdown",
   "metadata": {},
   "source": [
    "Plot probability distribution and confidence intervals"
   ]
  },
  {
   "cell_type": "code",
   "execution_count": 41,
   "metadata": {},
   "outputs": [
    {
     "data": {
      "image/png": "[encoded data removed]",
      "text/plain": [
       "<Figure size 432x288 with 1 Axes>"
      ]
     },
     "metadata": {
      "needs_background": "light"
     },
     "output_type": "display_data"
    }
   ],
   "source": [
    "dist_plot_thirty = MC_thirtyyears.plot_distribution()"
   ]
  },
  {
   "cell_type": "markdown",
   "metadata": {},
   "source": [
    "### Retirement Analysis\n",
    "\n",
    "In this section, we will perform some analysis on the Monte Carlo simulation results."
   ]
  },
  {
   "cell_type": "markdown",
   "metadata": {},
   "source": [
    "**1. Fetch summary statistics from the Monte Carlo simulation results**\n",
    "\n",
    "Create a variable `summary_stats_thirty` to store thirty years of summary statistics from the monte carlo simulation results."
   ]
  },
  {
   "cell_type": "code",
   "execution_count": 42,
   "metadata": {},
   "outputs": [],
   "source": [
    "summary_stats_thirty = MC_thirtyyears.summarize_cumulative_return()"
   ]
  },
  {
   "cell_type": "markdown",
   "metadata": {},
   "source": [
    "**Print summary statistics**"
   ]
  },
  {
   "cell_type": "code",
   "execution_count": 43,
   "metadata": {},
   "outputs": [
    {
     "name": "stdout",
     "output_type": "stream",
     "text": [
      "count           500.000000\n",
      "mean             17.216751\n",
      "std              13.947583\n",
      "min               1.891521\n",
      "25%               8.125975\n",
      "50%              13.283959\n",
      "75%              21.218258\n",
      "max             108.123455\n",
      "95% CI Lower      3.076552\n",
      "95% CI Upper     51.476810\n",
      "Name: 7560, dtype: float64\n"
     ]
    }
   ],
   "source": [
    "print(summary_stats_thirty)"
   ]
  },
  {
   "cell_type": "markdown",
   "metadata": {},
   "source": [
    "**2. Calculate the expected portfolio return at the 95% lower and upper confidence intervals based on a `$20,000` initial investment.**"
   ]
  },
  {
   "cell_type": "markdown",
   "metadata": {},
   "source": [
    "Create a variable `initial_investment` and assign a value of `$20,000`."
   ]
  },
  {
   "cell_type": "code",
   "execution_count": 44,
   "metadata": {},
   "outputs": [],
   "source": [
    "initial_investment = 20000"
   ]
  },
  {
   "cell_type": "markdown",
   "metadata": {},
   "source": [
    "**Confidence Intervals**\n",
    "\n",
    "Create variables `ci_lower` and `ci_upper` to store the calculated value of the range of possible outcomes of $20,000 by using the value of the lower and upper `95%` confidence intervals."
   ]
  },
  {
   "cell_type": "code",
   "execution_count": 45,
   "metadata": {},
   "outputs": [],
   "source": [
    "ci_lower = round(summary_stats_thirty[8] * 20000, 2)\n",
    "ci_upper = round(summary_stats_thirty[9] * 20000, 2)"
   ]
  },
  {
   "cell_type": "markdown",
   "metadata": {},
   "source": [
    "**Print Results**"
   ]
  },
  {
   "cell_type": "code",
   "execution_count": 46,
   "metadata": {},
   "outputs": [
    {
     "name": "stdout",
     "output_type": "stream",
     "text": [
      "There is a 95% chance that an initial investment of $20000 in the portfolio over the next 30 years will end within in the range of $61531.05 and $1029536.2\n"
     ]
    }
   ],
   "source": [
    "print(f\"There is a 95% chance that an initial investment of ${initial_investment} in the portfolio\"\n",
    "      f\" over the next 30 years will end within in the range of\"\n",
    "      f\" ${ci_lower} and ${ci_upper}\")"
   ]
  },
  {
   "cell_type": "markdown",
   "metadata": {},
   "source": [
    "**3. Calculate the expected portfolio return at the `95%` lower and upper confidence intervals based on a `50%` increase in the initial investment.**"
   ]
  },
  {
   "cell_type": "markdown",
   "metadata": {},
   "source": [
    "Here, we are calculating the expected portfolio return based on `50%` increase in the `initial_investment`."
   ]
  },
  {
   "cell_type": "code",
   "execution_count": 47,
   "metadata": {},
   "outputs": [],
   "source": [
    "initial_investment = 20000 * 1.5"
   ]
  },
  {
   "cell_type": "markdown",
   "metadata": {},
   "source": [
    "**Confidence Intervals**\n",
    "\n",
    "Let's use the lower and upper `95%` confidence intervals to calculate the range of the possible outcomes of $30,000."
   ]
  },
  {
   "cell_type": "code",
   "execution_count": 48,
   "metadata": {},
   "outputs": [],
   "source": [
    "ci_lower = round(summary_stats_thirty[8] * 30000, 2)\n",
    "ci_upper = round(summary_stats_thirty[9] * 30000, 2)"
   ]
  },
  {
   "cell_type": "markdown",
   "metadata": {},
   "source": [
    "**Print Results**"
   ]
  },
  {
   "cell_type": "code",
   "execution_count": 49,
   "metadata": {},
   "outputs": [
    {
     "name": "stdout",
     "output_type": "stream",
     "text": [
      "There is a 95% chance that an initial investment of $30000.0 in the portfolio over the next 30 years will end within in the range of $92296.57 and $1544304.3\n"
     ]
    }
   ],
   "source": [
    "print(f\"There is a 95% chance that an initial investment of ${initial_investment} in the portfolio\"\n",
    "      f\" over the next 30 years will end within in the range of\"\n",
    "      f\" ${ci_lower} and ${ci_upper}\")"
   ]
  },
  {
   "cell_type": "markdown",
   "metadata": {},
   "source": [
    "## Optional Challenge - Early Retirement\n",
    "\n",
    "In this section, we are analyzing the  early retirement option for five years and ten years by considering higher initial investment.\n",
    "\n",
    "### Five Years Retirement Option"
   ]
  },
  {
   "cell_type": "markdown",
   "metadata": {},
   "source": [
    "**Configure a Monte Carlo simulation to forecast 5 years cumulative returns**\n",
    "\n",
    "Create a variable `MC_fiveyears` to store the configuration of monte carlo simulation to forecast five years cumulative returns.\n",
    "\n",
    "Here, we are considering traditional `40/60` portfolio. The composition of the portfolio is `60%` stocks of `SPY` and `40%` bonds of `AGG`."
   ]
  },
  {
   "cell_type": "code",
   "execution_count": 50,
   "metadata": {},
   "outputs": [],
   "source": [
    "MC_fiveyears = MCSimulation(\n",
    "    portfolio_data = df_stock_data,\n",
    "    weights = [.40, .60],\n",
    "    num_simulation = 500,\n",
    "    num_trading_days = 252 * 5\n",
    ")"
   ]
  },
  {
   "cell_type": "markdown",
   "metadata": {},
   "source": [
    "**Monte Carlo Simulation**\n",
    "\n",
    "Let's run a Monte Carlo simulation to forecast 5 years cumulative returns"
   ]
  },
  {
   "cell_type": "code",
   "execution_count": 51,
   "metadata": {},
   "outputs": [
    {
     "name": "stdout",
     "output_type": "stream",
     "text": [
      "Running Monte Carlo simulation number 0.\n",
      "Running Monte Carlo simulation number 10.\n",
      "Running Monte Carlo simulation number 20.\n",
      "Running Monte Carlo simulation number 30.\n",
      "Running Monte Carlo simulation number 40.\n",
      "Running Monte Carlo simulation number 50.\n",
      "Running Monte Carlo simulation number 60.\n",
      "Running Monte Carlo simulation number 70.\n",
      "Running Monte Carlo simulation number 80.\n",
      "Running Monte Carlo simulation number 90.\n",
      "Running Monte Carlo simulation number 100.\n",
      "Running Monte Carlo simulation number 110.\n",
      "Running Monte Carlo simulation number 120.\n",
      "Running Monte Carlo simulation number 130.\n",
      "Running Monte Carlo simulation number 140.\n",
      "Running Monte Carlo simulation number 150.\n",
      "Running Monte Carlo simulation number 160.\n",
      "Running Monte Carlo simulation number 170.\n",
      "Running Monte Carlo simulation number 180.\n",
      "Running Monte Carlo simulation number 190.\n",
      "Running Monte Carlo simulation number 200.\n",
      "Running Monte Carlo simulation number 210.\n",
      "Running Monte Carlo simulation number 220.\n",
      "Running Monte Carlo simulation number 230.\n",
      "Running Monte Carlo simulation number 240.\n",
      "Running Monte Carlo simulation number 250.\n",
      "Running Monte Carlo simulation number 260.\n",
      "Running Monte Carlo simulation number 270.\n",
      "Running Monte Carlo simulation number 280.\n",
      "Running Monte Carlo simulation number 290.\n",
      "Running Monte Carlo simulation number 300.\n",
      "Running Monte Carlo simulation number 310.\n",
      "Running Monte Carlo simulation number 320.\n",
      "Running Monte Carlo simulation number 330.\n",
      "Running Monte Carlo simulation number 340.\n",
      "Running Monte Carlo simulation number 350.\n",
      "Running Monte Carlo simulation number 360.\n",
      "Running Monte Carlo simulation number 370.\n",
      "Running Monte Carlo simulation number 380.\n",
      "Running Monte Carlo simulation number 390.\n",
      "Running Monte Carlo simulation number 400.\n",
      "Running Monte Carlo simulation number 410.\n",
      "Running Monte Carlo simulation number 420.\n",
      "Running Monte Carlo simulation number 430.\n",
      "Running Monte Carlo simulation number 440.\n",
      "Running Monte Carlo simulation number 450.\n",
      "Running Monte Carlo simulation number 460.\n",
      "Running Monte Carlo simulation number 470.\n",
      "Running Monte Carlo simulation number 480.\n",
      "Running Monte Carlo simulation number 490.\n"
     ]
    },
    {
     "data": {
      "text/html": [
       "<div>\n",
       "<style scoped>\n",
       "    .dataframe tbody tr th:only-of-type {\n",
       "        vertical-align: middle;\n",
       "    }\n",
       "\n",
       "    .dataframe tbody tr th {\n",
       "        vertical-align: top;\n",
       "    }\n",
       "\n",
       "    .dataframe thead th {\n",
       "        text-align: right;\n",
       "    }\n",
       "</style>\n",
       "<table border=\"1\" class=\"dataframe\">\n",
       "  <thead>\n",
       "    <tr style=\"text-align: right;\">\n",
       "      <th></th>\n",
       "      <th>0</th>\n",
       "      <th>1</th>\n",
       "      <th>2</th>\n",
       "      <th>3</th>\n",
       "      <th>4</th>\n",
       "      <th>5</th>\n",
       "      <th>6</th>\n",
       "      <th>7</th>\n",
       "      <th>8</th>\n",
       "      <th>9</th>\n",
       "      <th>...</th>\n",
       "      <th>490</th>\n",
       "      <th>491</th>\n",
       "      <th>492</th>\n",
       "      <th>493</th>\n",
       "      <th>494</th>\n",
       "      <th>495</th>\n",
       "      <th>496</th>\n",
       "      <th>497</th>\n",
       "      <th>498</th>\n",
       "      <th>499</th>\n",
       "    </tr>\n",
       "  </thead>\n",
       "  <tbody>\n",
       "    <tr>\n",
       "      <th>0</th>\n",
       "      <td>1.000000</td>\n",
       "      <td>1.000000</td>\n",
       "      <td>1.000000</td>\n",
       "      <td>1.000000</td>\n",
       "      <td>1.000000</td>\n",
       "      <td>1.000000</td>\n",
       "      <td>1.000000</td>\n",
       "      <td>1.000000</td>\n",
       "      <td>1.000000</td>\n",
       "      <td>1.000000</td>\n",
       "      <td>...</td>\n",
       "      <td>1.000000</td>\n",
       "      <td>1.000000</td>\n",
       "      <td>1.000000</td>\n",
       "      <td>1.000000</td>\n",
       "      <td>1.000000</td>\n",
       "      <td>1.000000</td>\n",
       "      <td>1.000000</td>\n",
       "      <td>1.000000</td>\n",
       "      <td>1.000000</td>\n",
       "      <td>1.000000</td>\n",
       "    </tr>\n",
       "    <tr>\n",
       "      <th>1</th>\n",
       "      <td>1.006744</td>\n",
       "      <td>0.994657</td>\n",
       "      <td>0.995370</td>\n",
       "      <td>1.004856</td>\n",
       "      <td>1.005935</td>\n",
       "      <td>1.009694</td>\n",
       "      <td>1.002154</td>\n",
       "      <td>1.003709</td>\n",
       "      <td>0.984540</td>\n",
       "      <td>1.001632</td>\n",
       "      <td>...</td>\n",
       "      <td>1.007640</td>\n",
       "      <td>1.015105</td>\n",
       "      <td>1.010381</td>\n",
       "      <td>0.994587</td>\n",
       "      <td>0.991930</td>\n",
       "      <td>1.012501</td>\n",
       "      <td>0.996121</td>\n",
       "      <td>1.017261</td>\n",
       "      <td>0.993401</td>\n",
       "      <td>0.997906</td>\n",
       "    </tr>\n",
       "    <tr>\n",
       "      <th>2</th>\n",
       "      <td>1.022724</td>\n",
       "      <td>1.000085</td>\n",
       "      <td>0.988470</td>\n",
       "      <td>1.003759</td>\n",
       "      <td>0.998409</td>\n",
       "      <td>1.019257</td>\n",
       "      <td>0.994881</td>\n",
       "      <td>1.009395</td>\n",
       "      <td>0.993897</td>\n",
       "      <td>1.011149</td>\n",
       "      <td>...</td>\n",
       "      <td>1.023451</td>\n",
       "      <td>0.997046</td>\n",
       "      <td>1.009376</td>\n",
       "      <td>0.998956</td>\n",
       "      <td>0.993451</td>\n",
       "      <td>1.013724</td>\n",
       "      <td>0.983909</td>\n",
       "      <td>1.014502</td>\n",
       "      <td>0.983730</td>\n",
       "      <td>1.012742</td>\n",
       "    </tr>\n",
       "    <tr>\n",
       "      <th>3</th>\n",
       "      <td>1.031131</td>\n",
       "      <td>1.006486</td>\n",
       "      <td>0.989506</td>\n",
       "      <td>0.990751</td>\n",
       "      <td>0.987076</td>\n",
       "      <td>1.016844</td>\n",
       "      <td>0.992800</td>\n",
       "      <td>1.019255</td>\n",
       "      <td>1.000368</td>\n",
       "      <td>1.014262</td>\n",
       "      <td>...</td>\n",
       "      <td>1.009684</td>\n",
       "      <td>0.986619</td>\n",
       "      <td>1.010895</td>\n",
       "      <td>1.000609</td>\n",
       "      <td>0.989268</td>\n",
       "      <td>1.001248</td>\n",
       "      <td>0.978053</td>\n",
       "      <td>1.021619</td>\n",
       "      <td>0.985842</td>\n",
       "      <td>1.018735</td>\n",
       "    </tr>\n",
       "    <tr>\n",
       "      <th>4</th>\n",
       "      <td>1.015923</td>\n",
       "      <td>1.011685</td>\n",
       "      <td>0.977104</td>\n",
       "      <td>1.002560</td>\n",
       "      <td>0.967943</td>\n",
       "      <td>1.015435</td>\n",
       "      <td>0.999743</td>\n",
       "      <td>1.030861</td>\n",
       "      <td>1.001318</td>\n",
       "      <td>1.010616</td>\n",
       "      <td>...</td>\n",
       "      <td>1.000306</td>\n",
       "      <td>0.968773</td>\n",
       "      <td>1.017434</td>\n",
       "      <td>1.004978</td>\n",
       "      <td>0.990121</td>\n",
       "      <td>1.007763</td>\n",
       "      <td>0.966440</td>\n",
       "      <td>1.012977</td>\n",
       "      <td>0.981485</td>\n",
       "      <td>1.019889</td>\n",
       "    </tr>\n",
       "    <tr>\n",
       "      <th>...</th>\n",
       "      <td>...</td>\n",
       "      <td>...</td>\n",
       "      <td>...</td>\n",
       "      <td>...</td>\n",
       "      <td>...</td>\n",
       "      <td>...</td>\n",
       "      <td>...</td>\n",
       "      <td>...</td>\n",
       "      <td>...</td>\n",
       "      <td>...</td>\n",
       "      <td>...</td>\n",
       "      <td>...</td>\n",
       "      <td>...</td>\n",
       "      <td>...</td>\n",
       "      <td>...</td>\n",
       "      <td>...</td>\n",
       "      <td>...</td>\n",
       "      <td>...</td>\n",
       "      <td>...</td>\n",
       "      <td>...</td>\n",
       "      <td>...</td>\n",
       "    </tr>\n",
       "    <tr>\n",
       "      <th>1256</th>\n",
       "      <td>1.928993</td>\n",
       "      <td>2.188964</td>\n",
       "      <td>1.271520</td>\n",
       "      <td>1.680284</td>\n",
       "      <td>1.029421</td>\n",
       "      <td>3.072270</td>\n",
       "      <td>1.384405</td>\n",
       "      <td>2.037586</td>\n",
       "      <td>1.157988</td>\n",
       "      <td>0.892384</td>\n",
       "      <td>...</td>\n",
       "      <td>1.285616</td>\n",
       "      <td>1.824821</td>\n",
       "      <td>1.694838</td>\n",
       "      <td>0.901381</td>\n",
       "      <td>1.502183</td>\n",
       "      <td>1.318112</td>\n",
       "      <td>1.357104</td>\n",
       "      <td>2.168610</td>\n",
       "      <td>1.352430</td>\n",
       "      <td>1.178911</td>\n",
       "    </tr>\n",
       "    <tr>\n",
       "      <th>1257</th>\n",
       "      <td>1.955727</td>\n",
       "      <td>2.205863</td>\n",
       "      <td>1.269387</td>\n",
       "      <td>1.659190</td>\n",
       "      <td>1.024490</td>\n",
       "      <td>3.037454</td>\n",
       "      <td>1.387608</td>\n",
       "      <td>2.035864</td>\n",
       "      <td>1.166012</td>\n",
       "      <td>0.894693</td>\n",
       "      <td>...</td>\n",
       "      <td>1.295519</td>\n",
       "      <td>1.828699</td>\n",
       "      <td>1.678817</td>\n",
       "      <td>0.904317</td>\n",
       "      <td>1.494061</td>\n",
       "      <td>1.326340</td>\n",
       "      <td>1.341503</td>\n",
       "      <td>2.141702</td>\n",
       "      <td>1.346408</td>\n",
       "      <td>1.191406</td>\n",
       "    </tr>\n",
       "    <tr>\n",
       "      <th>1258</th>\n",
       "      <td>1.978219</td>\n",
       "      <td>2.199946</td>\n",
       "      <td>1.268135</td>\n",
       "      <td>1.663849</td>\n",
       "      <td>1.047303</td>\n",
       "      <td>3.010831</td>\n",
       "      <td>1.387848</td>\n",
       "      <td>2.037809</td>\n",
       "      <td>1.155338</td>\n",
       "      <td>0.876401</td>\n",
       "      <td>...</td>\n",
       "      <td>1.301485</td>\n",
       "      <td>1.817976</td>\n",
       "      <td>1.686003</td>\n",
       "      <td>0.903018</td>\n",
       "      <td>1.495613</td>\n",
       "      <td>1.324769</td>\n",
       "      <td>1.345562</td>\n",
       "      <td>2.145227</td>\n",
       "      <td>1.347936</td>\n",
       "      <td>1.184269</td>\n",
       "    </tr>\n",
       "    <tr>\n",
       "      <th>1259</th>\n",
       "      <td>1.969424</td>\n",
       "      <td>2.190570</td>\n",
       "      <td>1.268893</td>\n",
       "      <td>1.642469</td>\n",
       "      <td>1.038511</td>\n",
       "      <td>3.018464</td>\n",
       "      <td>1.396987</td>\n",
       "      <td>2.042154</td>\n",
       "      <td>1.142042</td>\n",
       "      <td>0.880804</td>\n",
       "      <td>...</td>\n",
       "      <td>1.312771</td>\n",
       "      <td>1.833913</td>\n",
       "      <td>1.672199</td>\n",
       "      <td>0.897079</td>\n",
       "      <td>1.460414</td>\n",
       "      <td>1.330515</td>\n",
       "      <td>1.350539</td>\n",
       "      <td>2.113671</td>\n",
       "      <td>1.331079</td>\n",
       "      <td>1.173222</td>\n",
       "    </tr>\n",
       "    <tr>\n",
       "      <th>1260</th>\n",
       "      <td>1.949075</td>\n",
       "      <td>2.193190</td>\n",
       "      <td>1.268848</td>\n",
       "      <td>1.635933</td>\n",
       "      <td>1.027937</td>\n",
       "      <td>2.974335</td>\n",
       "      <td>1.383369</td>\n",
       "      <td>2.039801</td>\n",
       "      <td>1.153029</td>\n",
       "      <td>0.890730</td>\n",
       "      <td>...</td>\n",
       "      <td>1.310934</td>\n",
       "      <td>1.841453</td>\n",
       "      <td>1.667629</td>\n",
       "      <td>0.895974</td>\n",
       "      <td>1.464695</td>\n",
       "      <td>1.335047</td>\n",
       "      <td>1.345110</td>\n",
       "      <td>2.125006</td>\n",
       "      <td>1.312845</td>\n",
       "      <td>1.179975</td>\n",
       "    </tr>\n",
       "  </tbody>\n",
       "</table>\n",
       "<p>1261 rows × 500 columns</p>\n",
       "</div>"
      ],
      "text/plain": [
       "           0         1         2         3         4         5         6    \\\n",
       "0     1.000000  1.000000  1.000000  1.000000  1.000000  1.000000  1.000000   \n",
       "1     1.006744  0.994657  0.995370  1.004856  1.005935  1.009694  1.002154   \n",
       "2     1.022724  1.000085  0.988470  1.003759  0.998409  1.019257  0.994881   \n",
       "3     1.031131  1.006486  0.989506  0.990751  0.987076  1.016844  0.992800   \n",
       "4     1.015923  1.011685  0.977104  1.002560  0.967943  1.015435  0.999743   \n",
       "...        ...       ...       ...       ...       ...       ...       ...   \n",
       "1256  1.928993  2.188964  1.271520  1.680284  1.029421  3.072270  1.384405   \n",
       "1257  1.955727  2.205863  1.269387  1.659190  1.024490  3.037454  1.387608   \n",
       "1258  1.978219  2.199946  1.268135  1.663849  1.047303  3.010831  1.387848   \n",
       "1259  1.969424  2.190570  1.268893  1.642469  1.038511  3.018464  1.396987   \n",
       "1260  1.949075  2.193190  1.268848  1.635933  1.027937  2.974335  1.383369   \n",
       "\n",
       "           7         8         9    ...       490       491       492  \\\n",
       "0     1.000000  1.000000  1.000000  ...  1.000000  1.000000  1.000000   \n",
       "1     1.003709  0.984540  1.001632  ...  1.007640  1.015105  1.010381   \n",
       "2     1.009395  0.993897  1.011149  ...  1.023451  0.997046  1.009376   \n",
       "3     1.019255  1.000368  1.014262  ...  1.009684  0.986619  1.010895   \n",
       "4     1.030861  1.001318  1.010616  ...  1.000306  0.968773  1.017434   \n",
       "...        ...       ...       ...  ...       ...       ...       ...   \n",
       "1256  2.037586  1.157988  0.892384  ...  1.285616  1.824821  1.694838   \n",
       "1257  2.035864  1.166012  0.894693  ...  1.295519  1.828699  1.678817   \n",
       "1258  2.037809  1.155338  0.876401  ...  1.301485  1.817976  1.686003   \n",
       "1259  2.042154  1.142042  0.880804  ...  1.312771  1.833913  1.672199   \n",
       "1260  2.039801  1.153029  0.890730  ...  1.310934  1.841453  1.667629   \n",
       "\n",
       "           493       494       495       496       497       498       499  \n",
       "0     1.000000  1.000000  1.000000  1.000000  1.000000  1.000000  1.000000  \n",
       "1     0.994587  0.991930  1.012501  0.996121  1.017261  0.993401  0.997906  \n",
       "2     0.998956  0.993451  1.013724  0.983909  1.014502  0.983730  1.012742  \n",
       "3     1.000609  0.989268  1.001248  0.978053  1.021619  0.985842  1.018735  \n",
       "4     1.004978  0.990121  1.007763  0.966440  1.012977  0.981485  1.019889  \n",
       "...        ...       ...       ...       ...       ...       ...       ...  \n",
       "1256  0.901381  1.502183  1.318112  1.357104  2.168610  1.352430  1.178911  \n",
       "1257  0.904317  1.494061  1.326340  1.341503  2.141702  1.346408  1.191406  \n",
       "1258  0.903018  1.495613  1.324769  1.345562  2.145227  1.347936  1.184269  \n",
       "1259  0.897079  1.460414  1.330515  1.350539  2.113671  1.331079  1.173222  \n",
       "1260  0.895974  1.464695  1.335047  1.345110  2.125006  1.312845  1.179975  \n",
       "\n",
       "[1261 rows x 500 columns]"
      ]
     },
     "execution_count": 51,
     "metadata": {},
     "output_type": "execute_result"
    }
   ],
   "source": [
    "MC_fiveyears.calc_cumulative_return()"
   ]
  },
  {
   "cell_type": "markdown",
   "metadata": {},
   "source": [
    "**Plot the simulation outcomes**"
   ]
  },
  {
   "cell_type": "code",
   "execution_count": 52,
   "metadata": {},
   "outputs": [
    {
     "data": {
      "image/png": "[encoded data removed]",
      "text/plain": [
       "<Figure size 432x288 with 1 Axes>"
      ]
     },
     "metadata": {
      "needs_background": "light"
     },
     "output_type": "display_data"
    }
   ],
   "source": [
    "line_plot_five = MC_fiveyears.plot_simulation()"
   ]
  },
  {
   "cell_type": "markdown",
   "metadata": {},
   "source": [
    "**Plot probability distribution and confidence intervals**"
   ]
  },
  {
   "cell_type": "code",
   "execution_count": 53,
   "metadata": {},
   "outputs": [
    {
     "data": {
      "image/png": "[encoded data removed]",
      "text/plain": [
       "<Figure size 432x288 with 1 Axes>"
      ]
     },
     "metadata": {
      "needs_background": "light"
     },
     "output_type": "display_data"
    }
   ],
   "source": [
    "dist_plot_five = MC_fiveyears.plot_distribution()"
   ]
  },
  {
   "cell_type": "markdown",
   "metadata": {},
   "source": [
    "**Fetch summary statistics from the Monte Carlo simulation results**\n",
    "\n",
    "Create a variable `summary_stats_five` to store thirty years of summary statistics from the monte carlo simulation results."
   ]
  },
  {
   "cell_type": "code",
   "execution_count": 54,
   "metadata": {},
   "outputs": [],
   "source": [
    "summary_stats_five = MC_fiveyears.summarize_cumulative_return()"
   ]
  },
  {
   "cell_type": "markdown",
   "metadata": {},
   "source": [
    "**Print summary statistics**"
   ]
  },
  {
   "cell_type": "code",
   "execution_count": 55,
   "metadata": {},
   "outputs": [
    {
     "name": "stdout",
     "output_type": "stream",
     "text": [
      "count           500.000000\n",
      "mean              1.604659\n",
      "std               0.478616\n",
      "min               0.597245\n",
      "25%               1.258553\n",
      "50%               1.533604\n",
      "75%               1.862120\n",
      "max               3.469935\n",
      "95% CI Lower      0.889842\n",
      "95% CI Upper      2.755385\n",
      "Name: 1260, dtype: float64\n"
     ]
    }
   ],
   "source": [
    "print(summary_stats_five)"
   ]
  },
  {
   "cell_type": "markdown",
   "metadata": {},
   "source": [
    "**Set initial investment**\n",
    "\n",
    "Here, we are calculating the expected portfolio return based on `300%` increase in the `initial_investment`."
   ]
  },
  {
   "cell_type": "code",
   "execution_count": 56,
   "metadata": {},
   "outputs": [],
   "source": [
    "initial_investment = 20000 * 3"
   ]
  },
  {
   "cell_type": "markdown",
   "metadata": {},
   "source": [
    "**Confidence Intervals**\n",
    "\n",
    "Create variables `ci_lower_five` and `ci_upper_five` to store the calculated value of the range of possible outcomes of $60,000 by using the value of the lower and upper `95%` confidence intervals."
   ]
  },
  {
   "cell_type": "code",
   "execution_count": 57,
   "metadata": {},
   "outputs": [],
   "source": [
    "ci_lower_five = round(summary_stats_five[8] * 60000, 2)\n",
    "ci_upper_five = round(summary_stats_five[9] * 60000, 2)"
   ]
  },
  {
   "cell_type": "markdown",
   "metadata": {},
   "source": [
    "**Print results**"
   ]
  },
  {
   "cell_type": "code",
   "execution_count": 58,
   "metadata": {},
   "outputs": [
    {
     "name": "stdout",
     "output_type": "stream",
     "text": [
      "There is a 95% chance that an initial investment of $60000 in the portfolio over the next 5 years will end within in the range of $53390.54 and $165323.12\n"
     ]
    }
   ],
   "source": [
    "print(f\"There is a 95% chance that an initial investment of ${initial_investment} in the portfolio\"\n",
    "      f\" over the next 5 years will end within in the range of\"\n",
    "      f\" ${ci_lower_five} and ${ci_upper_five}\")"
   ]
  },
  {
   "cell_type": "markdown",
   "metadata": {},
   "source": [
    "### Ten Years Retirement Option\n",
    "\n",
    "In this section, we are analyzing the  early retirement option for ten years by including higher initial investment."
   ]
  },
  {
   "cell_type": "markdown",
   "metadata": {},
   "source": [
    "**Configure a Monte Carlo simulation to forecast 10 years cumulative returns**\n",
    "\n",
    "Create a variable `MC_tenyears` to store the configuration of monte carlo simulation to forecast ten years cumulative returns.\n",
    "\n",
    "Here, we are considering traditional `40/60` portfolio. The composition of the portfolio is `60%` stocks of `SPY` and `40%` bonds of `AGG`."
   ]
  },
  {
   "cell_type": "code",
   "execution_count": 59,
   "metadata": {},
   "outputs": [],
   "source": [
    "MC_tenyears = MCSimulation(\n",
    "    portfolio_data = df_stock_data,\n",
    "    weights = [.40, .60],\n",
    "    num_simulation = 500,\n",
    "    num_trading_days = 252 * 10\n",
    ")"
   ]
  },
  {
   "cell_type": "markdown",
   "metadata": {},
   "source": [
    "**Monte Carlo Simulation**\n",
    "\n",
    "Let's run a Monte Carlo simulation to forecast 10 years cumulative returns"
   ]
  },
  {
   "cell_type": "code",
   "execution_count": 60,
   "metadata": {},
   "outputs": [
    {
     "name": "stdout",
     "output_type": "stream",
     "text": [
      "Running Monte Carlo simulation number 0.\n",
      "Running Monte Carlo simulation number 10.\n",
      "Running Monte Carlo simulation number 20.\n",
      "Running Monte Carlo simulation number 30.\n",
      "Running Monte Carlo simulation number 40.\n",
      "Running Monte Carlo simulation number 50.\n",
      "Running Monte Carlo simulation number 60.\n",
      "Running Monte Carlo simulation number 70.\n",
      "Running Monte Carlo simulation number 80.\n",
      "Running Monte Carlo simulation number 90.\n",
      "Running Monte Carlo simulation number 100.\n",
      "Running Monte Carlo simulation number 110.\n",
      "Running Monte Carlo simulation number 120.\n",
      "Running Monte Carlo simulation number 130.\n",
      "Running Monte Carlo simulation number 140.\n",
      "Running Monte Carlo simulation number 150.\n",
      "Running Monte Carlo simulation number 160.\n",
      "Running Monte Carlo simulation number 170.\n",
      "Running Monte Carlo simulation number 180.\n",
      "Running Monte Carlo simulation number 190.\n",
      "Running Monte Carlo simulation number 200.\n",
      "Running Monte Carlo simulation number 210.\n",
      "Running Monte Carlo simulation number 220.\n",
      "Running Monte Carlo simulation number 230.\n",
      "Running Monte Carlo simulation number 240.\n",
      "Running Monte Carlo simulation number 250.\n",
      "Running Monte Carlo simulation number 260.\n",
      "Running Monte Carlo simulation number 270.\n",
      "Running Monte Carlo simulation number 280.\n",
      "Running Monte Carlo simulation number 290.\n",
      "Running Monte Carlo simulation number 300.\n",
      "Running Monte Carlo simulation number 310.\n",
      "Running Monte Carlo simulation number 320.\n",
      "Running Monte Carlo simulation number 330.\n",
      "Running Monte Carlo simulation number 340.\n",
      "Running Monte Carlo simulation number 350.\n",
      "Running Monte Carlo simulation number 360.\n",
      "Running Monte Carlo simulation number 370.\n",
      "Running Monte Carlo simulation number 380.\n",
      "Running Monte Carlo simulation number 390.\n",
      "Running Monte Carlo simulation number 400.\n",
      "Running Monte Carlo simulation number 410.\n",
      "Running Monte Carlo simulation number 420.\n",
      "Running Monte Carlo simulation number 430.\n",
      "Running Monte Carlo simulation number 440.\n",
      "Running Monte Carlo simulation number 450.\n",
      "Running Monte Carlo simulation number 460.\n",
      "Running Monte Carlo simulation number 470.\n",
      "Running Monte Carlo simulation number 480.\n",
      "Running Monte Carlo simulation number 490.\n"
     ]
    },
    {
     "data": {
      "text/html": [
       "<div>\n",
       "<style scoped>\n",
       "    .dataframe tbody tr th:only-of-type {\n",
       "        vertical-align: middle;\n",
       "    }\n",
       "\n",
       "    .dataframe tbody tr th {\n",
       "        vertical-align: top;\n",
       "    }\n",
       "\n",
       "    .dataframe thead th {\n",
       "        text-align: right;\n",
       "    }\n",
       "</style>\n",
       "<table border=\"1\" class=\"dataframe\">\n",
       "  <thead>\n",
       "    <tr style=\"text-align: right;\">\n",
       "      <th></th>\n",
       "      <th>0</th>\n",
       "      <th>1</th>\n",
       "      <th>2</th>\n",
       "      <th>3</th>\n",
       "      <th>4</th>\n",
       "      <th>5</th>\n",
       "      <th>6</th>\n",
       "      <th>7</th>\n",
       "      <th>8</th>\n",
       "      <th>9</th>\n",
       "      <th>...</th>\n",
       "      <th>490</th>\n",
       "      <th>491</th>\n",
       "      <th>492</th>\n",
       "      <th>493</th>\n",
       "      <th>494</th>\n",
       "      <th>495</th>\n",
       "      <th>496</th>\n",
       "      <th>497</th>\n",
       "      <th>498</th>\n",
       "      <th>499</th>\n",
       "    </tr>\n",
       "  </thead>\n",
       "  <tbody>\n",
       "    <tr>\n",
       "      <th>0</th>\n",
       "      <td>1.000000</td>\n",
       "      <td>1.000000</td>\n",
       "      <td>1.000000</td>\n",
       "      <td>1.000000</td>\n",
       "      <td>1.000000</td>\n",
       "      <td>1.000000</td>\n",
       "      <td>1.000000</td>\n",
       "      <td>1.000000</td>\n",
       "      <td>1.000000</td>\n",
       "      <td>1.000000</td>\n",
       "      <td>...</td>\n",
       "      <td>1.000000</td>\n",
       "      <td>1.000000</td>\n",
       "      <td>1.000000</td>\n",
       "      <td>1.000000</td>\n",
       "      <td>1.000000</td>\n",
       "      <td>1.000000</td>\n",
       "      <td>1.000000</td>\n",
       "      <td>1.000000</td>\n",
       "      <td>1.000000</td>\n",
       "      <td>1.000000</td>\n",
       "    </tr>\n",
       "    <tr>\n",
       "      <th>1</th>\n",
       "      <td>0.981159</td>\n",
       "      <td>1.003159</td>\n",
       "      <td>0.993718</td>\n",
       "      <td>1.001538</td>\n",
       "      <td>0.993205</td>\n",
       "      <td>1.009997</td>\n",
       "      <td>1.005947</td>\n",
       "      <td>0.995403</td>\n",
       "      <td>1.001196</td>\n",
       "      <td>0.993747</td>\n",
       "      <td>...</td>\n",
       "      <td>1.007762</td>\n",
       "      <td>0.985943</td>\n",
       "      <td>0.992539</td>\n",
       "      <td>1.002501</td>\n",
       "      <td>1.000381</td>\n",
       "      <td>0.991949</td>\n",
       "      <td>0.997554</td>\n",
       "      <td>0.989339</td>\n",
       "      <td>1.003585</td>\n",
       "      <td>0.999698</td>\n",
       "    </tr>\n",
       "    <tr>\n",
       "      <th>2</th>\n",
       "      <td>0.963741</td>\n",
       "      <td>1.003634</td>\n",
       "      <td>1.005982</td>\n",
       "      <td>0.999686</td>\n",
       "      <td>0.981047</td>\n",
       "      <td>1.007585</td>\n",
       "      <td>0.990022</td>\n",
       "      <td>0.996359</td>\n",
       "      <td>1.014398</td>\n",
       "      <td>0.982307</td>\n",
       "      <td>...</td>\n",
       "      <td>1.011615</td>\n",
       "      <td>0.983954</td>\n",
       "      <td>0.983911</td>\n",
       "      <td>1.006119</td>\n",
       "      <td>0.984418</td>\n",
       "      <td>0.995376</td>\n",
       "      <td>0.990691</td>\n",
       "      <td>0.987164</td>\n",
       "      <td>0.989739</td>\n",
       "      <td>1.001184</td>\n",
       "    </tr>\n",
       "    <tr>\n",
       "      <th>3</th>\n",
       "      <td>0.972105</td>\n",
       "      <td>0.995511</td>\n",
       "      <td>1.009274</td>\n",
       "      <td>1.006456</td>\n",
       "      <td>0.992520</td>\n",
       "      <td>1.014652</td>\n",
       "      <td>0.985831</td>\n",
       "      <td>1.003466</td>\n",
       "      <td>1.021984</td>\n",
       "      <td>0.988451</td>\n",
       "      <td>...</td>\n",
       "      <td>1.012677</td>\n",
       "      <td>0.982005</td>\n",
       "      <td>0.992628</td>\n",
       "      <td>1.000208</td>\n",
       "      <td>0.974488</td>\n",
       "      <td>0.981100</td>\n",
       "      <td>0.977492</td>\n",
       "      <td>0.988454</td>\n",
       "      <td>0.983825</td>\n",
       "      <td>1.015034</td>\n",
       "    </tr>\n",
       "    <tr>\n",
       "      <th>4</th>\n",
       "      <td>0.966632</td>\n",
       "      <td>0.997377</td>\n",
       "      <td>1.016216</td>\n",
       "      <td>1.021197</td>\n",
       "      <td>0.988900</td>\n",
       "      <td>1.022175</td>\n",
       "      <td>0.997059</td>\n",
       "      <td>0.997092</td>\n",
       "      <td>1.023289</td>\n",
       "      <td>0.993789</td>\n",
       "      <td>...</td>\n",
       "      <td>1.019832</td>\n",
       "      <td>0.988332</td>\n",
       "      <td>1.001113</td>\n",
       "      <td>1.007701</td>\n",
       "      <td>0.962478</td>\n",
       "      <td>0.985197</td>\n",
       "      <td>0.992446</td>\n",
       "      <td>0.985050</td>\n",
       "      <td>0.987508</td>\n",
       "      <td>1.006892</td>\n",
       "    </tr>\n",
       "    <tr>\n",
       "      <th>...</th>\n",
       "      <td>...</td>\n",
       "      <td>...</td>\n",
       "      <td>...</td>\n",
       "      <td>...</td>\n",
       "      <td>...</td>\n",
       "      <td>...</td>\n",
       "      <td>...</td>\n",
       "      <td>...</td>\n",
       "      <td>...</td>\n",
       "      <td>...</td>\n",
       "      <td>...</td>\n",
       "      <td>...</td>\n",
       "      <td>...</td>\n",
       "      <td>...</td>\n",
       "      <td>...</td>\n",
       "      <td>...</td>\n",
       "      <td>...</td>\n",
       "      <td>...</td>\n",
       "      <td>...</td>\n",
       "      <td>...</td>\n",
       "      <td>...</td>\n",
       "    </tr>\n",
       "    <tr>\n",
       "      <th>2516</th>\n",
       "      <td>1.897685</td>\n",
       "      <td>2.938939</td>\n",
       "      <td>2.237538</td>\n",
       "      <td>3.440144</td>\n",
       "      <td>2.587388</td>\n",
       "      <td>1.467695</td>\n",
       "      <td>1.525618</td>\n",
       "      <td>2.556439</td>\n",
       "      <td>5.588105</td>\n",
       "      <td>2.167229</td>\n",
       "      <td>...</td>\n",
       "      <td>2.947213</td>\n",
       "      <td>2.434737</td>\n",
       "      <td>3.633162</td>\n",
       "      <td>1.358142</td>\n",
       "      <td>2.088612</td>\n",
       "      <td>2.400836</td>\n",
       "      <td>1.893768</td>\n",
       "      <td>2.289314</td>\n",
       "      <td>4.185767</td>\n",
       "      <td>1.816162</td>\n",
       "    </tr>\n",
       "    <tr>\n",
       "      <th>2517</th>\n",
       "      <td>1.894660</td>\n",
       "      <td>2.916966</td>\n",
       "      <td>2.256098</td>\n",
       "      <td>3.478490</td>\n",
       "      <td>2.593705</td>\n",
       "      <td>1.468994</td>\n",
       "      <td>1.523191</td>\n",
       "      <td>2.555388</td>\n",
       "      <td>5.554201</td>\n",
       "      <td>2.160662</td>\n",
       "      <td>...</td>\n",
       "      <td>2.944946</td>\n",
       "      <td>2.453814</td>\n",
       "      <td>3.668753</td>\n",
       "      <td>1.356526</td>\n",
       "      <td>2.083311</td>\n",
       "      <td>2.388819</td>\n",
       "      <td>1.928504</td>\n",
       "      <td>2.283558</td>\n",
       "      <td>4.198194</td>\n",
       "      <td>1.803861</td>\n",
       "    </tr>\n",
       "    <tr>\n",
       "      <th>2518</th>\n",
       "      <td>1.919683</td>\n",
       "      <td>2.895214</td>\n",
       "      <td>2.288750</td>\n",
       "      <td>3.486313</td>\n",
       "      <td>2.600165</td>\n",
       "      <td>1.470154</td>\n",
       "      <td>1.520980</td>\n",
       "      <td>2.562834</td>\n",
       "      <td>5.504112</td>\n",
       "      <td>2.173308</td>\n",
       "      <td>...</td>\n",
       "      <td>2.943314</td>\n",
       "      <td>2.487116</td>\n",
       "      <td>3.705850</td>\n",
       "      <td>1.349570</td>\n",
       "      <td>2.114364</td>\n",
       "      <td>2.385478</td>\n",
       "      <td>1.914387</td>\n",
       "      <td>2.281204</td>\n",
       "      <td>4.221763</td>\n",
       "      <td>1.815043</td>\n",
       "    </tr>\n",
       "    <tr>\n",
       "      <th>2519</th>\n",
       "      <td>1.897536</td>\n",
       "      <td>2.894782</td>\n",
       "      <td>2.264076</td>\n",
       "      <td>3.502883</td>\n",
       "      <td>2.614398</td>\n",
       "      <td>1.481304</td>\n",
       "      <td>1.520754</td>\n",
       "      <td>2.522490</td>\n",
       "      <td>5.487492</td>\n",
       "      <td>2.171105</td>\n",
       "      <td>...</td>\n",
       "      <td>2.945548</td>\n",
       "      <td>2.501402</td>\n",
       "      <td>3.708954</td>\n",
       "      <td>1.341425</td>\n",
       "      <td>2.118925</td>\n",
       "      <td>2.390444</td>\n",
       "      <td>1.905842</td>\n",
       "      <td>2.277907</td>\n",
       "      <td>4.240528</td>\n",
       "      <td>1.823876</td>\n",
       "    </tr>\n",
       "    <tr>\n",
       "      <th>2520</th>\n",
       "      <td>1.896638</td>\n",
       "      <td>2.873041</td>\n",
       "      <td>2.296408</td>\n",
       "      <td>3.528071</td>\n",
       "      <td>2.609256</td>\n",
       "      <td>1.487162</td>\n",
       "      <td>1.531521</td>\n",
       "      <td>2.493752</td>\n",
       "      <td>5.452623</td>\n",
       "      <td>2.152284</td>\n",
       "      <td>...</td>\n",
       "      <td>2.898078</td>\n",
       "      <td>2.493807</td>\n",
       "      <td>3.696491</td>\n",
       "      <td>1.351899</td>\n",
       "      <td>2.155641</td>\n",
       "      <td>2.415897</td>\n",
       "      <td>1.904073</td>\n",
       "      <td>2.308401</td>\n",
       "      <td>4.218006</td>\n",
       "      <td>1.819853</td>\n",
       "    </tr>\n",
       "  </tbody>\n",
       "</table>\n",
       "<p>2521 rows × 500 columns</p>\n",
       "</div>"
      ],
      "text/plain": [
       "           0         1         2         3         4         5         6    \\\n",
       "0     1.000000  1.000000  1.000000  1.000000  1.000000  1.000000  1.000000   \n",
       "1     0.981159  1.003159  0.993718  1.001538  0.993205  1.009997  1.005947   \n",
       "2     0.963741  1.003634  1.005982  0.999686  0.981047  1.007585  0.990022   \n",
       "3     0.972105  0.995511  1.009274  1.006456  0.992520  1.014652  0.985831   \n",
       "4     0.966632  0.997377  1.016216  1.021197  0.988900  1.022175  0.997059   \n",
       "...        ...       ...       ...       ...       ...       ...       ...   \n",
       "2516  1.897685  2.938939  2.237538  3.440144  2.587388  1.467695  1.525618   \n",
       "2517  1.894660  2.916966  2.256098  3.478490  2.593705  1.468994  1.523191   \n",
       "2518  1.919683  2.895214  2.288750  3.486313  2.600165  1.470154  1.520980   \n",
       "2519  1.897536  2.894782  2.264076  3.502883  2.614398  1.481304  1.520754   \n",
       "2520  1.896638  2.873041  2.296408  3.528071  2.609256  1.487162  1.531521   \n",
       "\n",
       "           7         8         9    ...       490       491       492  \\\n",
       "0     1.000000  1.000000  1.000000  ...  1.000000  1.000000  1.000000   \n",
       "1     0.995403  1.001196  0.993747  ...  1.007762  0.985943  0.992539   \n",
       "2     0.996359  1.014398  0.982307  ...  1.011615  0.983954  0.983911   \n",
       "3     1.003466  1.021984  0.988451  ...  1.012677  0.982005  0.992628   \n",
       "4     0.997092  1.023289  0.993789  ...  1.019832  0.988332  1.001113   \n",
       "...        ...       ...       ...  ...       ...       ...       ...   \n",
       "2516  2.556439  5.588105  2.167229  ...  2.947213  2.434737  3.633162   \n",
       "2517  2.555388  5.554201  2.160662  ...  2.944946  2.453814  3.668753   \n",
       "2518  2.562834  5.504112  2.173308  ...  2.943314  2.487116  3.705850   \n",
       "2519  2.522490  5.487492  2.171105  ...  2.945548  2.501402  3.708954   \n",
       "2520  2.493752  5.452623  2.152284  ...  2.898078  2.493807  3.696491   \n",
       "\n",
       "           493       494       495       496       497       498       499  \n",
       "0     1.000000  1.000000  1.000000  1.000000  1.000000  1.000000  1.000000  \n",
       "1     1.002501  1.000381  0.991949  0.997554  0.989339  1.003585  0.999698  \n",
       "2     1.006119  0.984418  0.995376  0.990691  0.987164  0.989739  1.001184  \n",
       "3     1.000208  0.974488  0.981100  0.977492  0.988454  0.983825  1.015034  \n",
       "4     1.007701  0.962478  0.985197  0.992446  0.985050  0.987508  1.006892  \n",
       "...        ...       ...       ...       ...       ...       ...       ...  \n",
       "2516  1.358142  2.088612  2.400836  1.893768  2.289314  4.185767  1.816162  \n",
       "2517  1.356526  2.083311  2.388819  1.928504  2.283558  4.198194  1.803861  \n",
       "2518  1.349570  2.114364  2.385478  1.914387  2.281204  4.221763  1.815043  \n",
       "2519  1.341425  2.118925  2.390444  1.905842  2.277907  4.240528  1.823876  \n",
       "2520  1.351899  2.155641  2.415897  1.904073  2.308401  4.218006  1.819853  \n",
       "\n",
       "[2521 rows x 500 columns]"
      ]
     },
     "execution_count": 60,
     "metadata": {},
     "output_type": "execute_result"
    }
   ],
   "source": [
    "MC_tenyears.calc_cumulative_return()"
   ]
  },
  {
   "cell_type": "markdown",
   "metadata": {},
   "source": [
    "**Plot the simulation outcomes**"
   ]
  },
  {
   "cell_type": "code",
   "execution_count": 61,
   "metadata": {},
   "outputs": [
    {
     "data": {
      "image/png": "[encoded data removed]",
      "text/plain": [
       "<Figure size 432x288 with 1 Axes>"
      ]
     },
     "metadata": {
      "needs_background": "light"
     },
     "output_type": "display_data"
    }
   ],
   "source": [
    "line_plot_ten = MC_tenyears.plot_simulation()"
   ]
  },
  {
   "cell_type": "markdown",
   "metadata": {},
   "source": [
    "**Plot the probability distribution and confidence intervals**"
   ]
  },
  {
   "cell_type": "code",
   "execution_count": 62,
   "metadata": {},
   "outputs": [
    {
     "data": {
      "image/png": "[encoded data removed]",
      "text/plain": [
       "<Figure size 432x288 with 1 Axes>"
      ]
     },
     "metadata": {
      "needs_background": "light"
     },
     "output_type": "display_data"
    }
   ],
   "source": [
    "dist_plot_ten = MC_tenyears.plot_distribution()"
   ]
  },
  {
   "cell_type": "markdown",
   "metadata": {},
   "source": [
    "**Fetch summary statistics from the Monte Carlo simulation results**\n",
    "\n",
    "Create a variable `summary_stats_ten` to store ten years of summary statistics from the monte carlo simulation resullts."
   ]
  },
  {
   "cell_type": "code",
   "execution_count": 63,
   "metadata": {},
   "outputs": [],
   "source": [
    "summary_stats_ten = MC_tenyears.summarize_cumulative_return()"
   ]
  },
  {
   "cell_type": "markdown",
   "metadata": {},
   "source": [
    "**Print summary statistics**"
   ]
  },
  {
   "cell_type": "code",
   "execution_count": 64,
   "metadata": {},
   "outputs": [
    {
     "name": "stdout",
     "output_type": "stream",
     "text": [
      "count           500.000000\n",
      "mean              2.634877\n",
      "std               1.127612\n",
      "min               0.784690\n",
      "25%               1.836286\n",
      "50%               2.409789\n",
      "75%               3.144477\n",
      "max               7.801491\n",
      "95% CI Lower      1.102747\n",
      "95% CI Upper      5.358290\n",
      "Name: 2520, dtype: float64\n"
     ]
    }
   ],
   "source": [
    "print(summary_stats_ten)"
   ]
  },
  {
   "cell_type": "markdown",
   "metadata": {},
   "source": [
    "**Set initial investment**\n",
    "\n",
    "Here, we are calculating the expected portfolio return based on `300%` increase in the `initial_investment`."
   ]
  },
  {
   "cell_type": "code",
   "execution_count": 65,
   "metadata": {},
   "outputs": [],
   "source": [
    "initial_investment = 20000 * 3"
   ]
  },
  {
   "cell_type": "markdown",
   "metadata": {},
   "source": [
    "**Confidence Intervals**\n",
    "\n",
    "Create variables `ci_lower_ten` and `ci_upper_ten` to store the calculated value of the range of possible outcomes of $60,000 by using the value of the lower and upper `95%` confidence intervals."
   ]
  },
  {
   "cell_type": "code",
   "execution_count": 66,
   "metadata": {},
   "outputs": [],
   "source": [
    "ci_lower_ten = round(summary_stats_ten[8] * 60000, 2)\n",
    "ci_upper_ten = round(summary_stats_ten[9] * 60000, 2)"
   ]
  },
  {
   "cell_type": "markdown",
   "metadata": {},
   "source": [
    "**Print Results**"
   ]
  },
  {
   "cell_type": "code",
   "execution_count": 67,
   "metadata": {},
   "outputs": [
    {
     "name": "stdout",
     "output_type": "stream",
     "text": [
      "There is a 95% chance that an initial investment of $60000 in the portfolio over the next 10 years will end within in the range of $66164.81 and $321497.38\n"
     ]
    }
   ],
   "source": [
    "print(f\"There is a 95% chance that an initial investment of ${initial_investment} in the portfolio\"\n",
    "      f\" over the next 10 years will end within in the range of\"\n",
    "      f\" ${ci_lower_ten} and ${ci_upper_ten}\")"
   ]
  },
  {
   "cell_type": "code",
   "execution_count": null,
   "metadata": {},
   "outputs": [],
   "source": []
  }
 ],
 "metadata": {
  "kernelspec": {
   "display_name": "Python 3",
   "language": "python",
   "name": "python3"
  },
  "language_info": {
   "codemirror_mode": {
    "name": "ipython",
    "version": 3
   },
   "file_extension": ".py",
   "mimetype": "text/x-python",
   "name": "python",
   "nbconvert_exporter": "python",
   "pygments_lexer": "ipython3",
   "version": "3.7.9"
  }
 },
 "nbformat": 4,
 "nbformat_minor": 4
}
